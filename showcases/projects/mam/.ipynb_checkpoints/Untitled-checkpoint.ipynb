{
 "cells": [
  {
   "cell_type": "code",
   "execution_count": 5,
   "metadata": {},
   "outputs": [],
   "source": [
    "import pandas as pd\n",
    "import numpy as np\n",
    "import matplotlib.pyplot as plt\n",
    "%matplotlib inline\n",
    "\n",
    "def parse_if_number(s):\n",
    "    try: return float(s)\n",
    "    except: return True if s==\"true\" else False if s==\"false\" else s if s else None\n",
    "\n",
    "def parse_ndarray(s):\n",
    "    return np.fromstring(s, sep=' ') if s else None\n",
    "\n"
   ]
  },
  {
   "cell_type": "code",
   "execution_count": 6,
   "metadata": {},
   "outputs": [],
   "source": [
    "aloha = pd.read_csv('results/aloha.csv', converters = {\n",
    "    'attrvalue': parse_if_number,\n",
    "    'binedges': parse_ndarray,\n",
    "    'binvalues': parse_ndarray,\n",
    "    'vectime': parse_ndarray,\n",
    "    'vecvalue': parse_ndarray})\n"
   ]
  },
  {
   "cell_type": "code",
   "execution_count": 7,
   "metadata": {},
   "outputs": [
    {
     "data": {
      "text/html": [
       "<div>\n",
       "<style scoped>\n",
       "    .dataframe tbody tr th:only-of-type {\n",
       "        vertical-align: middle;\n",
       "    }\n",
       "\n",
       "    .dataframe tbody tr th {\n",
       "        vertical-align: top;\n",
       "    }\n",
       "\n",
       "    .dataframe thead th {\n",
       "        text-align: right;\n",
       "    }\n",
       "</style>\n",
       "<table border=\"1\" class=\"dataframe\">\n",
       "  <thead>\n",
       "    <tr style=\"text-align: right;\">\n",
       "      <th></th>\n",
       "      <th>run</th>\n",
       "      <th>type</th>\n",
       "      <th>module</th>\n",
       "      <th>name</th>\n",
       "      <th>attrname</th>\n",
       "      <th>attrvalue</th>\n",
       "      <th>value</th>\n",
       "      <th>count</th>\n",
       "      <th>sumweights</th>\n",
       "      <th>mean</th>\n",
       "      <th>stddev</th>\n",
       "      <th>min</th>\n",
       "      <th>max</th>\n",
       "      <th>binedges</th>\n",
       "      <th>binvalues</th>\n",
       "    </tr>\n",
       "  </thead>\n",
       "  <tbody>\n",
       "    <tr>\n",
       "      <th>0</th>\n",
       "      <td>MAM10-BMRELAY-2-20200812-04:55:10-18627</td>\n",
       "      <td>runattr</td>\n",
       "      <td>NaN</td>\n",
       "      <td>NaN</td>\n",
       "      <td>configname</td>\n",
       "      <td>MAM10-BMRELAY</td>\n",
       "      <td>NaN</td>\n",
       "      <td>NaN</td>\n",
       "      <td>NaN</td>\n",
       "      <td>NaN</td>\n",
       "      <td>NaN</td>\n",
       "      <td>NaN</td>\n",
       "      <td>NaN</td>\n",
       "      <td>None</td>\n",
       "      <td>None</td>\n",
       "    </tr>\n",
       "    <tr>\n",
       "      <th>1</th>\n",
       "      <td>MAM10-BMRELAY-2-20200812-04:55:10-18627</td>\n",
       "      <td>runattr</td>\n",
       "      <td>NaN</td>\n",
       "      <td>NaN</td>\n",
       "      <td>datetime</td>\n",
       "      <td>20200812-04:55:10</td>\n",
       "      <td>NaN</td>\n",
       "      <td>NaN</td>\n",
       "      <td>NaN</td>\n",
       "      <td>NaN</td>\n",
       "      <td>NaN</td>\n",
       "      <td>NaN</td>\n",
       "      <td>NaN</td>\n",
       "      <td>None</td>\n",
       "      <td>None</td>\n",
       "    </tr>\n",
       "    <tr>\n",
       "      <th>2</th>\n",
       "      <td>MAM10-BMRELAY-2-20200812-04:55:10-18627</td>\n",
       "      <td>runattr</td>\n",
       "      <td>NaN</td>\n",
       "      <td>NaN</td>\n",
       "      <td>experiment</td>\n",
       "      <td>MAM10-BMRELAY</td>\n",
       "      <td>NaN</td>\n",
       "      <td>NaN</td>\n",
       "      <td>NaN</td>\n",
       "      <td>NaN</td>\n",
       "      <td>NaN</td>\n",
       "      <td>NaN</td>\n",
       "      <td>NaN</td>\n",
       "      <td>None</td>\n",
       "      <td>None</td>\n",
       "    </tr>\n",
       "    <tr>\n",
       "      <th>3</th>\n",
       "      <td>MAM10-BMRELAY-2-20200812-04:55:10-18627</td>\n",
       "      <td>runattr</td>\n",
       "      <td>NaN</td>\n",
       "      <td>NaN</td>\n",
       "      <td>inifile</td>\n",
       "      <td>omnetpp.ini</td>\n",
       "      <td>NaN</td>\n",
       "      <td>NaN</td>\n",
       "      <td>NaN</td>\n",
       "      <td>NaN</td>\n",
       "      <td>NaN</td>\n",
       "      <td>NaN</td>\n",
       "      <td>NaN</td>\n",
       "      <td>None</td>\n",
       "      <td>None</td>\n",
       "    </tr>\n",
       "    <tr>\n",
       "      <th>4</th>\n",
       "      <td>MAM10-BMRELAY-2-20200812-04:55:10-18627</td>\n",
       "      <td>runattr</td>\n",
       "      <td>NaN</td>\n",
       "      <td>NaN</td>\n",
       "      <td>iterationvars</td>\n",
       "      <td>$delta=0, $speedMps=14</td>\n",
       "      <td>NaN</td>\n",
       "      <td>NaN</td>\n",
       "      <td>NaN</td>\n",
       "      <td>NaN</td>\n",
       "      <td>NaN</td>\n",
       "      <td>NaN</td>\n",
       "      <td>NaN</td>\n",
       "      <td>None</td>\n",
       "      <td>None</td>\n",
       "    </tr>\n",
       "  </tbody>\n",
       "</table>\n",
       "</div>"
      ],
      "text/plain": [
       "                                       run     type module name  \\\n",
       "0  MAM10-BMRELAY-2-20200812-04:55:10-18627  runattr    NaN  NaN   \n",
       "1  MAM10-BMRELAY-2-20200812-04:55:10-18627  runattr    NaN  NaN   \n",
       "2  MAM10-BMRELAY-2-20200812-04:55:10-18627  runattr    NaN  NaN   \n",
       "3  MAM10-BMRELAY-2-20200812-04:55:10-18627  runattr    NaN  NaN   \n",
       "4  MAM10-BMRELAY-2-20200812-04:55:10-18627  runattr    NaN  NaN   \n",
       "\n",
       "        attrname               attrvalue  value  count  sumweights  mean  \\\n",
       "0     configname           MAM10-BMRELAY    NaN    NaN         NaN   NaN   \n",
       "1       datetime       20200812-04:55:10    NaN    NaN         NaN   NaN   \n",
       "2     experiment           MAM10-BMRELAY    NaN    NaN         NaN   NaN   \n",
       "3        inifile             omnetpp.ini    NaN    NaN         NaN   NaN   \n",
       "4  iterationvars  $delta=0, $speedMps=14    NaN    NaN         NaN   NaN   \n",
       "\n",
       "   stddev  min  max binedges binvalues  \n",
       "0     NaN  NaN  NaN     None      None  \n",
       "1     NaN  NaN  NaN     None      None  \n",
       "2     NaN  NaN  NaN     None      None  \n",
       "3     NaN  NaN  NaN     None      None  \n",
       "4     NaN  NaN  NaN     None      None  "
      ]
     },
     "execution_count": 7,
     "metadata": {},
     "output_type": "execute_result"
    }
   ],
   "source": [
    "aloha.head()\n"
   ]
  },
  {
   "cell_type": "code",
   "execution_count": 8,
   "metadata": {},
   "outputs": [
    {
     "data": {
      "text/plain": [
       "array(['delta', 'speedMps'], dtype=object)"
      ]
     },
     "execution_count": 8,
     "metadata": {},
     "output_type": "execute_result"
    }
   ],
   "source": [
    "allAttrs = aloha[(aloha.type == 'itervar')]['attrname'].unique()\n",
    "allAttrs.sort()\n",
    "allAttrs"
   ]
  },
  {
   "cell_type": "code",
   "execution_count": 9,
   "metadata": {},
   "outputs": [
    {
     "data": {
      "text/plain": [
       "array(['\"BMesh\"', '\"MAM\"'], dtype=object)"
      ]
     },
     "execution_count": 9,
     "metadata": {},
     "output_type": "execute_result"
    }
   ],
   "source": [
    "allRelayModes = aloha[(aloha['attrname'].str.contains('.app[0].relayMode', na=False, regex=False))]['attrvalue'].unique()\n",
    "allRelayModes.sort()\n",
    "allRelayModes"
   ]
  },
  {
   "cell_type": "code",
   "execution_count": 10,
   "metadata": {},
   "outputs": [
    {
     "data": {
      "text/plain": [
       "array([2.0, 6.0, 14.0], dtype=object)"
      ]
     },
     "execution_count": 10,
     "metadata": {},
     "output_type": "execute_result"
    }
   ],
   "source": [
    "allSpeeds = aloha[(aloha.attrname == 'speedMps')]['attrvalue'].unique()\n",
    "allSpeeds.sort()\n",
    "allSpeeds"
   ]
  },
  {
   "cell_type": "code",
   "execution_count": 11,
   "metadata": {},
   "outputs": [
    {
     "data": {
      "text/plain": [
       "array([0.0, 2.0, 5.0, 10.0, 20.0, 50.0, 100.0, 500.0, 1000.0, 5000.0,\n",
       "       10000.0, 15000.0, 20000.0], dtype=object)"
      ]
     },
     "execution_count": 11,
     "metadata": {},
     "output_type": "execute_result"
    }
   ],
   "source": [
    "allDeltas = aloha[(aloha.attrname == 'delta')]['attrvalue'].unique()\n",
    "allDeltas.sort()\n",
    "allDeltas"
   ]
  },
  {
   "cell_type": "code",
   "execution_count": 12,
   "metadata": {},
   "outputs": [
    {
     "data": {
      "text/plain": [
       "run\n",
       "MAM10-BMRELAY-0-20200812-04:55:02-18627      2521\n",
       "MAM10-BMRELAY-1-20200812-04:55:08-18627      2521\n",
       "MAM10-BMRELAY-2-20200812-04:55:10-18627      2521\n",
       "MAM10-MAMRELAY-0-20200812-04:55:13-18639     2521\n",
       "MAM10-MAMRELAY-1-20200812-04:55:17-18639     2521\n",
       "                                            ...  \n",
       "MAM50-MAMRELAY-5-20200812-04:34:58-18291    11483\n",
       "MAM50-MAMRELAY-6-20200812-04:35:17-18291    11483\n",
       "MAM50-MAMRELAY-7-20200812-04:35:56-18291    11483\n",
       "MAM50-MAMRELAY-8-20200812-04:36:38-18291    11483\n",
       "MAM50-MAMRELAY-9-20200812-04:36:59-18291    11483\n",
       "Length: 112, dtype: int64"
      ]
     },
     "execution_count": 12,
     "metadata": {},
     "output_type": "execute_result"
    }
   ],
   "source": [
    "dataByRun = aloha.groupby(['run'])\n",
    "dataByRun.size()"
   ]
  },
  {
   "cell_type": "code",
   "execution_count": 13,
   "metadata": {},
   "outputs": [
    {
     "data": {
      "text/plain": [
       "'MAM10-BMRELAY-1-20200812-04:55:08-18627'"
      ]
     },
     "execution_count": 13,
     "metadata": {},
     "output_type": "execute_result"
    }
   ],
   "source": [
    "\n",
    "def findBluetoothRelayRun(speed, configName):\n",
    "    def testA(x):\n",
    "        bmeshMatch = x[(x['attrname'].str.contains('.app[0].relayMode', na=False, regex=False))]['attrvalue'].iloc[0] == '\"BMesh\"'\n",
    "        speedMatch = x[(x.attrname == 'speedMps')]['attrvalue'].iloc[0] == speed\n",
    "        configNameMatch = x[(x.attrname == 'configname')]['attrvalue'].iloc[0] == configName\n",
    "    \n",
    "        return bmeshMatch & speedMatch & configNameMatch\n",
    "\n",
    "    s = pd.Series(dataByRun.apply(testA))\n",
    "    s = s[s == True]\n",
    "    if len(s) == 0:\n",
    "        raise Exception(\"Bluetooth Relay run not found for speed=\" + str(speed) + \" configName=\" + configName)\n",
    "    if len(s) > 1:\n",
    "        raise Exception(\"Bluetooth Relay run duplicate for speed=\" + str(speed) + \" configName=\" + configName)\n",
    "    return s.index[0]\n",
    "\n",
    "findBluetoothRelayRun(speed=6, configName='MAM10-BMRELAY')\n",
    "\n"
   ]
  },
  {
   "cell_type": "code",
   "execution_count": 36,
   "metadata": {},
   "outputs": [
    {
     "data": {
      "text/plain": [
       "'MAM10-MAMRELAY-1-20200812-04:55:17-18639'"
      ]
     },
     "execution_count": 36,
     "metadata": {},
     "output_type": "execute_result"
    }
   ],
   "source": [
    "\n",
    "def findMAMRelayRun(speed, delta, configName):\n",
    "    def testA(x):\n",
    "        bmeshMatch = x[(x['attrname'].str.contains('.app[0].relayMode', na=False, regex=False))]['attrvalue'].iloc[0] == '\"MAM\"'\n",
    "        speedMatch = x[(x.attrname == 'speedMps')]['attrvalue'].iloc[0] == speed\n",
    "        deltaMatch = x[(x.attrname == 'delta')]['attrvalue'].iloc[0] == delta\n",
    "        configNameMatch = x[(x.attrname == 'configname')]['attrvalue'].iloc[0] == configName\n",
    "    \n",
    "        return bmeshMatch & speedMatch & deltaMatch & configNameMatch\n",
    "\n",
    "    s = pd.Series(dataByRun.apply(testA))\n",
    "    s = s[s == True]\n",
    "    if len(s) == 0:\n",
    "        raise Exception(\"MAM Relay run not found for speed=\" + str(speed) + \" delta=\" + str(delta) + \" configName=\" + configName)\n",
    "    if len(s) > 1:\n",
    "        raise Exception(\"MAM Relay run duplicate for speed=\" + str(speed) + \" delta=\" + str(delta) + \" configName=\" + configName)\n",
    "    return s.index[0]\n",
    "\n",
    "findMAMRelayRun(speed=6, delta=2, configName='MAM10-MAMRELAY')\n"
   ]
  },
  {
   "cell_type": "code",
   "execution_count": 38,
   "metadata": {},
   "outputs": [
    {
     "data": {
      "text/html": [
       "<div>\n",
       "<style scoped>\n",
       "    .dataframe tbody tr th:only-of-type {\n",
       "        vertical-align: middle;\n",
       "    }\n",
       "\n",
       "    .dataframe tbody tr th {\n",
       "        vertical-align: top;\n",
       "    }\n",
       "\n",
       "    .dataframe thead th {\n",
       "        text-align: right;\n",
       "    }\n",
       "</style>\n",
       "<table border=\"1\" class=\"dataframe\">\n",
       "  <thead>\n",
       "    <tr style=\"text-align: right;\">\n",
       "      <th></th>\n",
       "      <th>run</th>\n",
       "      <th>type</th>\n",
       "      <th>module</th>\n",
       "      <th>name</th>\n",
       "      <th>attrname</th>\n",
       "      <th>attrvalue</th>\n",
       "      <th>value</th>\n",
       "      <th>count</th>\n",
       "      <th>sumweights</th>\n",
       "      <th>mean</th>\n",
       "      <th>stddev</th>\n",
       "      <th>min</th>\n",
       "      <th>max</th>\n",
       "      <th>binedges</th>\n",
       "      <th>binvalues</th>\n",
       "    </tr>\n",
       "  </thead>\n",
       "  <tbody>\n",
       "    <tr>\n",
       "      <th>237</th>\n",
       "      <td>MAM10-BMRELAY-1-20200812-04:55:08-18627</td>\n",
       "      <td>runattr</td>\n",
       "      <td>NaN</td>\n",
       "      <td>NaN</td>\n",
       "      <td>configname</td>\n",
       "      <td>MAM10-BMRELAY</td>\n",
       "      <td>NaN</td>\n",
       "      <td>NaN</td>\n",
       "      <td>NaN</td>\n",
       "      <td>NaN</td>\n",
       "      <td>NaN</td>\n",
       "      <td>NaN</td>\n",
       "      <td>NaN</td>\n",
       "      <td>None</td>\n",
       "      <td>None</td>\n",
       "    </tr>\n",
       "    <tr>\n",
       "      <th>238</th>\n",
       "      <td>MAM10-BMRELAY-1-20200812-04:55:08-18627</td>\n",
       "      <td>runattr</td>\n",
       "      <td>NaN</td>\n",
       "      <td>NaN</td>\n",
       "      <td>datetime</td>\n",
       "      <td>20200812-04:55:08</td>\n",
       "      <td>NaN</td>\n",
       "      <td>NaN</td>\n",
       "      <td>NaN</td>\n",
       "      <td>NaN</td>\n",
       "      <td>NaN</td>\n",
       "      <td>NaN</td>\n",
       "      <td>NaN</td>\n",
       "      <td>None</td>\n",
       "      <td>None</td>\n",
       "    </tr>\n",
       "    <tr>\n",
       "      <th>239</th>\n",
       "      <td>MAM10-BMRELAY-1-20200812-04:55:08-18627</td>\n",
       "      <td>runattr</td>\n",
       "      <td>NaN</td>\n",
       "      <td>NaN</td>\n",
       "      <td>experiment</td>\n",
       "      <td>MAM10-BMRELAY</td>\n",
       "      <td>NaN</td>\n",
       "      <td>NaN</td>\n",
       "      <td>NaN</td>\n",
       "      <td>NaN</td>\n",
       "      <td>NaN</td>\n",
       "      <td>NaN</td>\n",
       "      <td>NaN</td>\n",
       "      <td>None</td>\n",
       "      <td>None</td>\n",
       "    </tr>\n",
       "    <tr>\n",
       "      <th>240</th>\n",
       "      <td>MAM10-BMRELAY-1-20200812-04:55:08-18627</td>\n",
       "      <td>runattr</td>\n",
       "      <td>NaN</td>\n",
       "      <td>NaN</td>\n",
       "      <td>inifile</td>\n",
       "      <td>omnetpp.ini</td>\n",
       "      <td>NaN</td>\n",
       "      <td>NaN</td>\n",
       "      <td>NaN</td>\n",
       "      <td>NaN</td>\n",
       "      <td>NaN</td>\n",
       "      <td>NaN</td>\n",
       "      <td>NaN</td>\n",
       "      <td>None</td>\n",
       "      <td>None</td>\n",
       "    </tr>\n",
       "    <tr>\n",
       "      <th>241</th>\n",
       "      <td>MAM10-BMRELAY-1-20200812-04:55:08-18627</td>\n",
       "      <td>runattr</td>\n",
       "      <td>NaN</td>\n",
       "      <td>NaN</td>\n",
       "      <td>iterationvars</td>\n",
       "      <td>$delta=0, $speedMps=6</td>\n",
       "      <td>NaN</td>\n",
       "      <td>NaN</td>\n",
       "      <td>NaN</td>\n",
       "      <td>NaN</td>\n",
       "      <td>NaN</td>\n",
       "      <td>NaN</td>\n",
       "      <td>NaN</td>\n",
       "      <td>None</td>\n",
       "      <td>None</td>\n",
       "    </tr>\n",
       "    <tr>\n",
       "      <th>...</th>\n",
       "      <td>...</td>\n",
       "      <td>...</td>\n",
       "      <td>...</td>\n",
       "      <td>...</td>\n",
       "      <td>...</td>\n",
       "      <td>...</td>\n",
       "      <td>...</td>\n",
       "      <td>...</td>\n",
       "      <td>...</td>\n",
       "      <td>...</td>\n",
       "      <td>...</td>\n",
       "      <td>...</td>\n",
       "      <td>...</td>\n",
       "      <td>...</td>\n",
       "      <td>...</td>\n",
       "    </tr>\n",
       "    <tr>\n",
       "      <th>530370</th>\n",
       "      <td>MAM10-BMRELAY-1-20200812-04:55:08-18627</td>\n",
       "      <td>histogram</td>\n",
       "      <td>MAM10.collector1.app[0]</td>\n",
       "      <td>endToEndDelay:histogram</td>\n",
       "      <td>NaN</td>\n",
       "      <td>None</td>\n",
       "      <td>NaN</td>\n",
       "      <td>2663.0</td>\n",
       "      <td>NaN</td>\n",
       "      <td>0.021299</td>\n",
       "      <td>0.017529</td>\n",
       "      <td>0.0</td>\n",
       "      <td>0.088385</td>\n",
       "      <td>[0.0, 0.001, 0.002, 0.003, 0.004, 0.005, 0.006...</td>\n",
       "      <td>[200.0, 40.0, 117.0, 128.0, 60.0, 70.0, 96.0, ...</td>\n",
       "    </tr>\n",
       "    <tr>\n",
       "      <th>530371</th>\n",
       "      <td>MAM10-BMRELAY-1-20200812-04:55:08-18627</td>\n",
       "      <td>attr</td>\n",
       "      <td>MAM10.collector1.app[0]</td>\n",
       "      <td>endToEndDelay:histogram</td>\n",
       "      <td>interpolationmode</td>\n",
       "      <td>none</td>\n",
       "      <td>NaN</td>\n",
       "      <td>NaN</td>\n",
       "      <td>NaN</td>\n",
       "      <td>NaN</td>\n",
       "      <td>NaN</td>\n",
       "      <td>NaN</td>\n",
       "      <td>NaN</td>\n",
       "      <td>None</td>\n",
       "      <td>None</td>\n",
       "    </tr>\n",
       "    <tr>\n",
       "      <th>530372</th>\n",
       "      <td>MAM10-BMRELAY-1-20200812-04:55:08-18627</td>\n",
       "      <td>attr</td>\n",
       "      <td>MAM10.collector1.app[0]</td>\n",
       "      <td>endToEndDelay:histogram</td>\n",
       "      <td>source</td>\n",
       "      <td>dataAge(packetReceived)</td>\n",
       "      <td>NaN</td>\n",
       "      <td>NaN</td>\n",
       "      <td>NaN</td>\n",
       "      <td>NaN</td>\n",
       "      <td>NaN</td>\n",
       "      <td>NaN</td>\n",
       "      <td>NaN</td>\n",
       "      <td>None</td>\n",
       "      <td>None</td>\n",
       "    </tr>\n",
       "    <tr>\n",
       "      <th>530373</th>\n",
       "      <td>MAM10-BMRELAY-1-20200812-04:55:08-18627</td>\n",
       "      <td>attr</td>\n",
       "      <td>MAM10.collector1.app[0]</td>\n",
       "      <td>endToEndDelay:histogram</td>\n",
       "      <td>title</td>\n",
       "      <td>end-to-end delay, histogram</td>\n",
       "      <td>NaN</td>\n",
       "      <td>NaN</td>\n",
       "      <td>NaN</td>\n",
       "      <td>NaN</td>\n",
       "      <td>NaN</td>\n",
       "      <td>NaN</td>\n",
       "      <td>NaN</td>\n",
       "      <td>None</td>\n",
       "      <td>None</td>\n",
       "    </tr>\n",
       "    <tr>\n",
       "      <th>530374</th>\n",
       "      <td>MAM10-BMRELAY-1-20200812-04:55:08-18627</td>\n",
       "      <td>attr</td>\n",
       "      <td>MAM10.collector1.app[0]</td>\n",
       "      <td>endToEndDelay:histogram</td>\n",
       "      <td>unit</td>\n",
       "      <td>s</td>\n",
       "      <td>NaN</td>\n",
       "      <td>NaN</td>\n",
       "      <td>NaN</td>\n",
       "      <td>NaN</td>\n",
       "      <td>NaN</td>\n",
       "      <td>NaN</td>\n",
       "      <td>NaN</td>\n",
       "      <td>None</td>\n",
       "      <td>None</td>\n",
       "    </tr>\n",
       "  </tbody>\n",
       "</table>\n",
       "<p>2521 rows × 15 columns</p>\n",
       "</div>"
      ],
      "text/plain": [
       "                                            run       type  \\\n",
       "237     MAM10-BMRELAY-1-20200812-04:55:08-18627    runattr   \n",
       "238     MAM10-BMRELAY-1-20200812-04:55:08-18627    runattr   \n",
       "239     MAM10-BMRELAY-1-20200812-04:55:08-18627    runattr   \n",
       "240     MAM10-BMRELAY-1-20200812-04:55:08-18627    runattr   \n",
       "241     MAM10-BMRELAY-1-20200812-04:55:08-18627    runattr   \n",
       "...                                         ...        ...   \n",
       "530370  MAM10-BMRELAY-1-20200812-04:55:08-18627  histogram   \n",
       "530371  MAM10-BMRELAY-1-20200812-04:55:08-18627       attr   \n",
       "530372  MAM10-BMRELAY-1-20200812-04:55:08-18627       attr   \n",
       "530373  MAM10-BMRELAY-1-20200812-04:55:08-18627       attr   \n",
       "530374  MAM10-BMRELAY-1-20200812-04:55:08-18627       attr   \n",
       "\n",
       "                         module                     name           attrname  \\\n",
       "237                         NaN                      NaN         configname   \n",
       "238                         NaN                      NaN           datetime   \n",
       "239                         NaN                      NaN         experiment   \n",
       "240                         NaN                      NaN            inifile   \n",
       "241                         NaN                      NaN      iterationvars   \n",
       "...                         ...                      ...                ...   \n",
       "530370  MAM10.collector1.app[0]  endToEndDelay:histogram                NaN   \n",
       "530371  MAM10.collector1.app[0]  endToEndDelay:histogram  interpolationmode   \n",
       "530372  MAM10.collector1.app[0]  endToEndDelay:histogram             source   \n",
       "530373  MAM10.collector1.app[0]  endToEndDelay:histogram              title   \n",
       "530374  MAM10.collector1.app[0]  endToEndDelay:histogram               unit   \n",
       "\n",
       "                          attrvalue  value   count  sumweights      mean  \\\n",
       "237                   MAM10-BMRELAY    NaN     NaN         NaN       NaN   \n",
       "238               20200812-04:55:08    NaN     NaN         NaN       NaN   \n",
       "239                   MAM10-BMRELAY    NaN     NaN         NaN       NaN   \n",
       "240                     omnetpp.ini    NaN     NaN         NaN       NaN   \n",
       "241           $delta=0, $speedMps=6    NaN     NaN         NaN       NaN   \n",
       "...                             ...    ...     ...         ...       ...   \n",
       "530370                         None    NaN  2663.0         NaN  0.021299   \n",
       "530371                         none    NaN     NaN         NaN       NaN   \n",
       "530372      dataAge(packetReceived)    NaN     NaN         NaN       NaN   \n",
       "530373  end-to-end delay, histogram    NaN     NaN         NaN       NaN   \n",
       "530374                            s    NaN     NaN         NaN       NaN   \n",
       "\n",
       "          stddev  min       max  \\\n",
       "237          NaN  NaN       NaN   \n",
       "238          NaN  NaN       NaN   \n",
       "239          NaN  NaN       NaN   \n",
       "240          NaN  NaN       NaN   \n",
       "241          NaN  NaN       NaN   \n",
       "...          ...  ...       ...   \n",
       "530370  0.017529  0.0  0.088385   \n",
       "530371       NaN  NaN       NaN   \n",
       "530372       NaN  NaN       NaN   \n",
       "530373       NaN  NaN       NaN   \n",
       "530374       NaN  NaN       NaN   \n",
       "\n",
       "                                                 binedges  \\\n",
       "237                                                  None   \n",
       "238                                                  None   \n",
       "239                                                  None   \n",
       "240                                                  None   \n",
       "241                                                  None   \n",
       "...                                                   ...   \n",
       "530370  [0.0, 0.001, 0.002, 0.003, 0.004, 0.005, 0.006...   \n",
       "530371                                               None   \n",
       "530372                                               None   \n",
       "530373                                               None   \n",
       "530374                                               None   \n",
       "\n",
       "                                                binvalues  \n",
       "237                                                  None  \n",
       "238                                                  None  \n",
       "239                                                  None  \n",
       "240                                                  None  \n",
       "241                                                  None  \n",
       "...                                                   ...  \n",
       "530370  [200.0, 40.0, 117.0, 128.0, 60.0, 70.0, 96.0, ...  \n",
       "530371                                               None  \n",
       "530372                                               None  \n",
       "530373                                               None  \n",
       "530374                                               None  \n",
       "\n",
       "[2521 rows x 15 columns]"
      ]
     },
     "execution_count": 38,
     "metadata": {},
     "output_type": "execute_result"
    }
   ],
   "source": [
    "def getRunData(run):\n",
    "    return aloha[aloha.run == run]\n",
    "\n",
    "getRunData(findBluetoothRelayRun(speed=6, configName='MAM10-BMRELAY'))"
   ]
  },
  {
   "cell_type": "code",
   "execution_count": 15,
   "metadata": {},
   "outputs": [
    {
     "data": {
      "text/html": [
       "<div>\n",
       "<style scoped>\n",
       "    .dataframe tbody tr th:only-of-type {\n",
       "        vertical-align: middle;\n",
       "    }\n",
       "\n",
       "    .dataframe tbody tr th {\n",
       "        vertical-align: top;\n",
       "    }\n",
       "\n",
       "    .dataframe thead th {\n",
       "        text-align: right;\n",
       "    }\n",
       "</style>\n",
       "<table border=\"1\" class=\"dataframe\">\n",
       "  <thead>\n",
       "    <tr style=\"text-align: right;\">\n",
       "      <th></th>\n",
       "      <th>run</th>\n",
       "      <th>type</th>\n",
       "      <th>module</th>\n",
       "      <th>name</th>\n",
       "      <th>attrname</th>\n",
       "      <th>attrvalue</th>\n",
       "      <th>value</th>\n",
       "      <th>count</th>\n",
       "      <th>sumweights</th>\n",
       "      <th>mean</th>\n",
       "      <th>stddev</th>\n",
       "      <th>min</th>\n",
       "      <th>max</th>\n",
       "      <th>binedges</th>\n",
       "      <th>binvalues</th>\n",
       "    </tr>\n",
       "  </thead>\n",
       "  <tbody>\n",
       "    <tr>\n",
       "      <th>1200</th>\n",
       "      <td>MAM10-MAMRELAY-7-20200812-04:55:36-18639</td>\n",
       "      <td>itervar</td>\n",
       "      <td>NaN</td>\n",
       "      <td>NaN</td>\n",
       "      <td>speedMps</td>\n",
       "      <td>6</td>\n",
       "      <td>NaN</td>\n",
       "      <td>NaN</td>\n",
       "      <td>NaN</td>\n",
       "      <td>NaN</td>\n",
       "      <td>NaN</td>\n",
       "      <td>NaN</td>\n",
       "      <td>NaN</td>\n",
       "      <td>None</td>\n",
       "      <td>None</td>\n",
       "    </tr>\n",
       "    <tr>\n",
       "      <th>1201</th>\n",
       "      <td>MAM10-MAMRELAY-7-20200812-04:55:36-18639</td>\n",
       "      <td>param</td>\n",
       "      <td>NaN</td>\n",
       "      <td>NaN</td>\n",
       "      <td>*.host*.app[0].relayMode</td>\n",
       "      <td>\"MAM\"</td>\n",
       "      <td>NaN</td>\n",
       "      <td>NaN</td>\n",
       "      <td>NaN</td>\n",
       "      <td>NaN</td>\n",
       "      <td>NaN</td>\n",
       "      <td>NaN</td>\n",
       "      <td>NaN</td>\n",
       "      <td>None</td>\n",
       "      <td>None</td>\n",
       "    </tr>\n",
       "    <tr>\n",
       "      <th>1202</th>\n",
       "      <td>MAM10-MAMRELAY-7-20200812-04:55:36-18639</td>\n",
       "      <td>param</td>\n",
       "      <td>NaN</td>\n",
       "      <td>NaN</td>\n",
       "      <td>*.host*.app[0].delta</td>\n",
       "      <td>10</td>\n",
       "      <td>NaN</td>\n",
       "      <td>NaN</td>\n",
       "      <td>NaN</td>\n",
       "      <td>NaN</td>\n",
       "      <td>NaN</td>\n",
       "      <td>NaN</td>\n",
       "      <td>NaN</td>\n",
       "      <td>None</td>\n",
       "      <td>None</td>\n",
       "    </tr>\n",
       "    <tr>\n",
       "      <th>1203</th>\n",
       "      <td>MAM10-MAMRELAY-7-20200812-04:55:36-18639</td>\n",
       "      <td>param</td>\n",
       "      <td>NaN</td>\n",
       "      <td>NaN</td>\n",
       "      <td>*.collector*.mobility.speed</td>\n",
       "      <td>6mps</td>\n",
       "      <td>NaN</td>\n",
       "      <td>NaN</td>\n",
       "      <td>NaN</td>\n",
       "      <td>NaN</td>\n",
       "      <td>NaN</td>\n",
       "      <td>NaN</td>\n",
       "      <td>NaN</td>\n",
       "      <td>None</td>\n",
       "      <td>None</td>\n",
       "    </tr>\n",
       "    <tr>\n",
       "      <th>1204</th>\n",
       "      <td>MAM10-MAMRELAY-7-20200812-04:55:36-18639</td>\n",
       "      <td>param</td>\n",
       "      <td>NaN</td>\n",
       "      <td>NaN</td>\n",
       "      <td>*.host*.app[0].relayMode</td>\n",
       "      <td>\"BMesh\"</td>\n",
       "      <td>NaN</td>\n",
       "      <td>NaN</td>\n",
       "      <td>NaN</td>\n",
       "      <td>NaN</td>\n",
       "      <td>NaN</td>\n",
       "      <td>NaN</td>\n",
       "      <td>NaN</td>\n",
       "      <td>None</td>\n",
       "      <td>None</td>\n",
       "    </tr>\n",
       "  </tbody>\n",
       "</table>\n",
       "</div>"
      ],
      "text/plain": [
       "                                           run     type module name  \\\n",
       "1200  MAM10-MAMRELAY-7-20200812-04:55:36-18639  itervar    NaN  NaN   \n",
       "1201  MAM10-MAMRELAY-7-20200812-04:55:36-18639    param    NaN  NaN   \n",
       "1202  MAM10-MAMRELAY-7-20200812-04:55:36-18639    param    NaN  NaN   \n",
       "1203  MAM10-MAMRELAY-7-20200812-04:55:36-18639    param    NaN  NaN   \n",
       "1204  MAM10-MAMRELAY-7-20200812-04:55:36-18639    param    NaN  NaN   \n",
       "\n",
       "                         attrname attrvalue  value  count  sumweights  mean  \\\n",
       "1200                     speedMps         6    NaN    NaN         NaN   NaN   \n",
       "1201     *.host*.app[0].relayMode     \"MAM\"    NaN    NaN         NaN   NaN   \n",
       "1202         *.host*.app[0].delta        10    NaN    NaN         NaN   NaN   \n",
       "1203  *.collector*.mobility.speed      6mps    NaN    NaN         NaN   NaN   \n",
       "1204     *.host*.app[0].relayMode   \"BMesh\"    NaN    NaN         NaN   NaN   \n",
       "\n",
       "      stddev  min  max binedges binvalues  \n",
       "1200     NaN  NaN  NaN     None      None  \n",
       "1201     NaN  NaN  NaN     None      None  \n",
       "1202     NaN  NaN  NaN     None      None  \n",
       "1203     NaN  NaN  NaN     None      None  \n",
       "1204     NaN  NaN  NaN     None      None  "
      ]
     },
     "execution_count": 15,
     "metadata": {},
     "output_type": "execute_result"
    }
   ],
   "source": [
    "aloha.iloc[1200:1205]\n"
   ]
  },
  {
   "cell_type": "code",
   "execution_count": 16,
   "metadata": {},
   "outputs": [
    {
     "name": "stdout",
     "output_type": "stream",
     "text": [
      "<class 'pandas.core.frame.DataFrame'>\n",
      "RangeIndex: 560188 entries, 0 to 560187\n",
      "Data columns (total 15 columns):\n",
      " #   Column      Non-Null Count   Dtype  \n",
      "---  ------      --------------   -----  \n",
      " 0   run         560188 non-null  object \n",
      " 1   type        560188 non-null  object \n",
      " 2   module      551264 non-null  object \n",
      " 3   name        551264 non-null  object \n",
      " 4   attrname    392204 non-null  object \n",
      " 5   attrvalue   392204 non-null  object \n",
      " 6   value       155624 non-null  float64\n",
      " 7   count       12360 non-null   float64\n",
      " 8   sumweights  0 non-null       float64\n",
      " 9   mean        7528 non-null    float64\n",
      " 10  stddev      7528 non-null    float64\n",
      " 11  min         7528 non-null    float64\n",
      " 12  max         7528 non-null    float64\n",
      " 13  binedges    10000 non-null   object \n",
      " 14  binvalues   10000 non-null   object \n",
      "dtypes: float64(7), object(8)\n",
      "memory usage: 64.1+ MB\n"
     ]
    }
   ],
   "source": [
    "aloha.info()"
   ]
  },
  {
   "cell_type": "code",
   "execution_count": 17,
   "metadata": {},
   "outputs": [
    {
     "data": {
      "text/html": [
       "<div>\n",
       "<style scoped>\n",
       "    .dataframe tbody tr th:only-of-type {\n",
       "        vertical-align: middle;\n",
       "    }\n",
       "\n",
       "    .dataframe tbody tr th {\n",
       "        vertical-align: top;\n",
       "    }\n",
       "\n",
       "    .dataframe thead th {\n",
       "        text-align: right;\n",
       "    }\n",
       "</style>\n",
       "<table border=\"1\" class=\"dataframe\">\n",
       "  <thead>\n",
       "    <tr style=\"text-align: right;\">\n",
       "      <th></th>\n",
       "      <th>value</th>\n",
       "      <th>count</th>\n",
       "      <th>sumweights</th>\n",
       "      <th>mean</th>\n",
       "      <th>stddev</th>\n",
       "      <th>min</th>\n",
       "      <th>max</th>\n",
       "    </tr>\n",
       "  </thead>\n",
       "  <tbody>\n",
       "    <tr>\n",
       "      <th>count</th>\n",
       "      <td>1.556240e+05</td>\n",
       "      <td>12360.000000</td>\n",
       "      <td>0.0</td>\n",
       "      <td>7528.000000</td>\n",
       "      <td>7528.000000</td>\n",
       "      <td>7.528000e+03</td>\n",
       "      <td>7528.000000</td>\n",
       "    </tr>\n",
       "    <tr>\n",
       "      <th>mean</th>\n",
       "      <td>6.412836e+03</td>\n",
       "      <td>1612.795793</td>\n",
       "      <td>NaN</td>\n",
       "      <td>13.550403</td>\n",
       "      <td>37.583036</td>\n",
       "      <td>3.694268e-01</td>\n",
       "      <td>435.205936</td>\n",
       "    </tr>\n",
       "    <tr>\n",
       "      <th>std</th>\n",
       "      <td>1.408095e+05</td>\n",
       "      <td>2254.321490</td>\n",
       "      <td>NaN</td>\n",
       "      <td>65.279553</td>\n",
       "      <td>300.541773</td>\n",
       "      <td>1.482129e+00</td>\n",
       "      <td>4328.427671</td>\n",
       "    </tr>\n",
       "    <tr>\n",
       "      <th>min</th>\n",
       "      <td>-1.320731e+00</td>\n",
       "      <td>0.000000</td>\n",
       "      <td>NaN</td>\n",
       "      <td>0.000000</td>\n",
       "      <td>0.000000</td>\n",
       "      <td>0.000000e+00</td>\n",
       "      <td>0.000000</td>\n",
       "    </tr>\n",
       "    <tr>\n",
       "      <th>25%</th>\n",
       "      <td>0.000000e+00</td>\n",
       "      <td>0.000000</td>\n",
       "      <td>NaN</td>\n",
       "      <td>0.001577</td>\n",
       "      <td>0.009696</td>\n",
       "      <td>0.000000e+00</td>\n",
       "      <td>0.149073</td>\n",
       "    </tr>\n",
       "    <tr>\n",
       "      <th>50%</th>\n",
       "      <td>0.000000e+00</td>\n",
       "      <td>566.000000</td>\n",
       "      <td>NaN</td>\n",
       "      <td>0.044336</td>\n",
       "      <td>0.187843</td>\n",
       "      <td>5.272336e-215</td>\n",
       "      <td>1.000000</td>\n",
       "    </tr>\n",
       "    <tr>\n",
       "      <th>75%</th>\n",
       "      <td>3.730000e+02</td>\n",
       "      <td>2487.000000</td>\n",
       "      <td>NaN</td>\n",
       "      <td>8.191459</td>\n",
       "      <td>6.936855</td>\n",
       "      <td>1.548630e-01</td>\n",
       "      <td>35.640248</td>\n",
       "    </tr>\n",
       "    <tr>\n",
       "      <th>max</th>\n",
       "      <td>9.870611e+06</td>\n",
       "      <td>14082.000000</td>\n",
       "      <td>NaN</td>\n",
       "      <td>1081.479510</td>\n",
       "      <td>7633.692200</td>\n",
       "      <td>1.838884e+01</td>\n",
       "      <td>79967.906778</td>\n",
       "    </tr>\n",
       "  </tbody>\n",
       "</table>\n",
       "</div>"
      ],
      "text/plain": [
       "              value         count  sumweights         mean       stddev  \\\n",
       "count  1.556240e+05  12360.000000         0.0  7528.000000  7528.000000   \n",
       "mean   6.412836e+03   1612.795793         NaN    13.550403    37.583036   \n",
       "std    1.408095e+05   2254.321490         NaN    65.279553   300.541773   \n",
       "min   -1.320731e+00      0.000000         NaN     0.000000     0.000000   \n",
       "25%    0.000000e+00      0.000000         NaN     0.001577     0.009696   \n",
       "50%    0.000000e+00    566.000000         NaN     0.044336     0.187843   \n",
       "75%    3.730000e+02   2487.000000         NaN     8.191459     6.936855   \n",
       "max    9.870611e+06  14082.000000         NaN  1081.479510  7633.692200   \n",
       "\n",
       "                 min           max  \n",
       "count   7.528000e+03   7528.000000  \n",
       "mean    3.694268e-01    435.205936  \n",
       "std     1.482129e+00   4328.427671  \n",
       "min     0.000000e+00      0.000000  \n",
       "25%     0.000000e+00      0.149073  \n",
       "50%    5.272336e-215      1.000000  \n",
       "75%     1.548630e-01     35.640248  \n",
       "max     1.838884e+01  79967.906778  "
      ]
     },
     "execution_count": 17,
     "metadata": {},
     "output_type": "execute_result"
    }
   ],
   "source": [
    "aloha.describe()"
   ]
  },
  {
   "cell_type": "code",
   "execution_count": 18,
   "metadata": {},
   "outputs": [
    {
     "data": {
      "text/html": [
       "<div>\n",
       "<style scoped>\n",
       "    .dataframe tbody tr th:only-of-type {\n",
       "        vertical-align: middle;\n",
       "    }\n",
       "\n",
       "    .dataframe tbody tr th {\n",
       "        vertical-align: top;\n",
       "    }\n",
       "\n",
       "    .dataframe thead th {\n",
       "        text-align: right;\n",
       "    }\n",
       "</style>\n",
       "<table border=\"1\" class=\"dataframe\">\n",
       "  <thead>\n",
       "    <tr style=\"text-align: right;\">\n",
       "      <th></th>\n",
       "      <th>run</th>\n",
       "      <th>type</th>\n",
       "      <th>module</th>\n",
       "      <th>name</th>\n",
       "      <th>attrname</th>\n",
       "      <th>attrvalue</th>\n",
       "      <th>value</th>\n",
       "      <th>count</th>\n",
       "      <th>sumweights</th>\n",
       "      <th>mean</th>\n",
       "      <th>stddev</th>\n",
       "      <th>min</th>\n",
       "      <th>max</th>\n",
       "      <th>binedges</th>\n",
       "      <th>binvalues</th>\n",
       "    </tr>\n",
       "  </thead>\n",
       "  <tbody>\n",
       "    <tr>\n",
       "      <th>8924</th>\n",
       "      <td>MAM10-BMRELAY-2-20200812-04:55:10-18627</td>\n",
       "      <td>scalar</td>\n",
       "      <td>MAM10.radioMedium.propagation</td>\n",
       "      <td>Arrival computation count</td>\n",
       "      <td>NaN</td>\n",
       "      <td>None</td>\n",
       "      <td>52840.0</td>\n",
       "      <td>NaN</td>\n",
       "      <td>NaN</td>\n",
       "      <td>NaN</td>\n",
       "      <td>NaN</td>\n",
       "      <td>NaN</td>\n",
       "      <td>NaN</td>\n",
       "      <td>None</td>\n",
       "      <td>None</td>\n",
       "    </tr>\n",
       "    <tr>\n",
       "      <th>8925</th>\n",
       "      <td>MAM10-BMRELAY-2-20200812-04:55:10-18627</td>\n",
       "      <td>scalar</td>\n",
       "      <td>MAM10.radioMedium</td>\n",
       "      <td>transmission count</td>\n",
       "      <td>NaN</td>\n",
       "      <td>None</td>\n",
       "      <td>5284.0</td>\n",
       "      <td>NaN</td>\n",
       "      <td>NaN</td>\n",
       "      <td>NaN</td>\n",
       "      <td>NaN</td>\n",
       "      <td>NaN</td>\n",
       "      <td>NaN</td>\n",
       "      <td>None</td>\n",
       "      <td>None</td>\n",
       "    </tr>\n",
       "    <tr>\n",
       "      <th>8926</th>\n",
       "      <td>MAM10-BMRELAY-2-20200812-04:55:10-18627</td>\n",
       "      <td>scalar</td>\n",
       "      <td>MAM10.radioMedium</td>\n",
       "      <td>signal send count</td>\n",
       "      <td>NaN</td>\n",
       "      <td>None</td>\n",
       "      <td>52840.0</td>\n",
       "      <td>NaN</td>\n",
       "      <td>NaN</td>\n",
       "      <td>NaN</td>\n",
       "      <td>NaN</td>\n",
       "      <td>NaN</td>\n",
       "      <td>NaN</td>\n",
       "      <td>None</td>\n",
       "      <td>None</td>\n",
       "    </tr>\n",
       "    <tr>\n",
       "      <th>8927</th>\n",
       "      <td>MAM10-BMRELAY-2-20200812-04:55:10-18627</td>\n",
       "      <td>scalar</td>\n",
       "      <td>MAM10.radioMedium</td>\n",
       "      <td>reception computation count</td>\n",
       "      <td>NaN</td>\n",
       "      <td>None</td>\n",
       "      <td>52840.0</td>\n",
       "      <td>NaN</td>\n",
       "      <td>NaN</td>\n",
       "      <td>NaN</td>\n",
       "      <td>NaN</td>\n",
       "      <td>NaN</td>\n",
       "      <td>NaN</td>\n",
       "      <td>None</td>\n",
       "      <td>None</td>\n",
       "    </tr>\n",
       "    <tr>\n",
       "      <th>8928</th>\n",
       "      <td>MAM10-BMRELAY-2-20200812-04:55:10-18627</td>\n",
       "      <td>scalar</td>\n",
       "      <td>MAM10.radioMedium</td>\n",
       "      <td>interference computation count</td>\n",
       "      <td>NaN</td>\n",
       "      <td>None</td>\n",
       "      <td>134479.0</td>\n",
       "      <td>NaN</td>\n",
       "      <td>NaN</td>\n",
       "      <td>NaN</td>\n",
       "      <td>NaN</td>\n",
       "      <td>NaN</td>\n",
       "      <td>NaN</td>\n",
       "      <td>None</td>\n",
       "      <td>None</td>\n",
       "    </tr>\n",
       "  </tbody>\n",
       "</table>\n",
       "</div>"
      ],
      "text/plain": [
       "                                          run    type  \\\n",
       "8924  MAM10-BMRELAY-2-20200812-04:55:10-18627  scalar   \n",
       "8925  MAM10-BMRELAY-2-20200812-04:55:10-18627  scalar   \n",
       "8926  MAM10-BMRELAY-2-20200812-04:55:10-18627  scalar   \n",
       "8927  MAM10-BMRELAY-2-20200812-04:55:10-18627  scalar   \n",
       "8928  MAM10-BMRELAY-2-20200812-04:55:10-18627  scalar   \n",
       "\n",
       "                             module                            name attrname  \\\n",
       "8924  MAM10.radioMedium.propagation       Arrival computation count      NaN   \n",
       "8925              MAM10.radioMedium              transmission count      NaN   \n",
       "8926              MAM10.radioMedium               signal send count      NaN   \n",
       "8927              MAM10.radioMedium     reception computation count      NaN   \n",
       "8928              MAM10.radioMedium  interference computation count      NaN   \n",
       "\n",
       "     attrvalue     value  count  sumweights  mean  stddev  min  max binedges  \\\n",
       "8924      None   52840.0    NaN         NaN   NaN     NaN  NaN  NaN     None   \n",
       "8925      None    5284.0    NaN         NaN   NaN     NaN  NaN  NaN     None   \n",
       "8926      None   52840.0    NaN         NaN   NaN     NaN  NaN  NaN     None   \n",
       "8927      None   52840.0    NaN         NaN   NaN     NaN  NaN  NaN     None   \n",
       "8928      None  134479.0    NaN         NaN   NaN     NaN  NaN  NaN     None   \n",
       "\n",
       "     binvalues  \n",
       "8924      None  \n",
       "8925      None  \n",
       "8926      None  \n",
       "8927      None  \n",
       "8928      None  "
      ]
     },
     "execution_count": 18,
     "metadata": {},
     "output_type": "execute_result"
    }
   ],
   "source": [
    "scalars = aloha[(aloha.type=='scalar')]\n",
    "scalars.head()\n"
   ]
  },
  {
   "cell_type": "code",
   "execution_count": 19,
   "metadata": {},
   "outputs": [],
   "source": [
    "runPrefix = 'MAM50-BMRELAY-0'\n",
    "run2Prefix = 'MAM50-MAMRELAY-6'"
   ]
  },
  {
   "cell_type": "code",
   "execution_count": 20,
   "metadata": {},
   "outputs": [
    {
     "data": {
      "text/plain": [
       "-27.004494456353694"
      ]
     },
     "execution_count": 20,
     "metadata": {},
     "output_type": "execute_result"
    }
   ],
   "source": [
    "energyConsumptions = scalars[(scalars.name=='residualEnergyCapacity:last')]\n",
    "energyConsumption = energyConsumptions[energyConsumptions['run'].str.startswith(runPrefix, na=False)]\n",
    "energyConsumptionSum = energyConsumption['value'].sum()\n",
    "energyConsumptionSum"
   ]
  },
  {
   "cell_type": "code",
   "execution_count": 21,
   "metadata": {},
   "outputs": [
    {
     "data": {
      "text/plain": [
       "-26.462930404682904"
      ]
     },
     "execution_count": 21,
     "metadata": {},
     "output_type": "execute_result"
    }
   ],
   "source": [
    "energyConsumption2 = energyConsumptions[energyConsumptions['run'].str.startswith(run2Prefix, na=False)]\n",
    "energyConsumption2Sum = energyConsumption2['value'].sum()\n",
    "energyConsumption2Sum"
   ]
  },
  {
   "cell_type": "code",
   "execution_count": 22,
   "metadata": {},
   "outputs": [
    {
     "data": {
      "text/plain": [
       "'Packets received (MAM50-BMRELAY-0): 2161.0'"
      ]
     },
     "execution_count": 22,
     "metadata": {},
     "output_type": "execute_result"
    }
   ],
   "source": [
    "packetsReceivedScalars = scalars[(scalars.name=='packetReceived:count')]\n",
    "collectorsPacketsReceived = packetsReceivedScalars[packetsReceivedScalars['module'].str.contains('collector1.app')]\n",
    "collectorPacketsReceived = collectorsPacketsReceived[collectorsPacketsReceived['run'].str.startswith(runPrefix, na=False)]\n",
    "collectorPacketsReceived = collectorPacketsReceived.iloc[0]['value']\n",
    "'Packets received (' + runPrefix + '): ' + str(collectorPacketsReceived)"
   ]
  },
  {
   "cell_type": "code",
   "execution_count": 23,
   "metadata": {},
   "outputs": [
    {
     "data": {
      "text/plain": [
       "'Packets received (MAM50-MAMRELAY-6): 2401.0'"
      ]
     },
     "execution_count": 23,
     "metadata": {},
     "output_type": "execute_result"
    }
   ],
   "source": [
    "collectorPacketsReceived2 = collectorsPacketsReceived[collectorsPacketsReceived['run'].str.startswith(run2Prefix, na=False)]\n",
    "collectorPacketsReceived2 = collectorPacketsReceived2.iloc[0]['value']\n",
    "'Packets received (' + run2Prefix + '): ' + str(collectorPacketsReceived2)"
   ]
  },
  {
   "cell_type": "code",
   "execution_count": 24,
   "metadata": {},
   "outputs": [
    {
     "data": {
      "text/plain": [
       "'Data packets sent (MAM50-BMRELAY-0): 28387.0'"
      ]
     },
     "execution_count": 24,
     "metadata": {},
     "output_type": "execute_result"
    }
   ],
   "source": [
    "dataPacketsSentScalars = scalars[(scalars.name=='data packets sent')]\n",
    "\n",
    "dataPacketsSent = dataPacketsSentScalars[dataPacketsSentScalars['run'].str.startswith(runPrefix, na=False)]\n",
    "dataPacketsSent = dataPacketsSent['value'].sum()\n",
    "'Data packets sent (' + runPrefix + '): ' + str(dataPacketsSent)"
   ]
  },
  {
   "cell_type": "code",
   "execution_count": 25,
   "metadata": {},
   "outputs": [
    {
     "data": {
      "text/plain": [
       "'Data packets sent (MAM50-MAMRELAY-6): 12979.0'"
      ]
     },
     "execution_count": 25,
     "metadata": {},
     "output_type": "execute_result"
    }
   ],
   "source": [
    "\n",
    "dataPacketsSent2 = dataPacketsSentScalars[dataPacketsSentScalars['run'].str.startswith(run2Prefix, na=False)]\n",
    "dataPacketsSent2 = dataPacketsSent2['value'].sum()\n",
    "'Data packets sent (' + run2Prefix + '): ' + str(dataPacketsSent2)"
   ]
  },
  {
   "cell_type": "code",
   "execution_count": 47,
   "metadata": {},
   "outputs": [
    {
     "name": "stderr",
     "output_type": "stream",
     "text": [
      "<ipython-input-47-a25b30de5b08>:2: UserWarning: Boolean Series key will be reindexed to match DataFrame index.\n",
      "  endToEndDelayHistograms = histograms[aloha.name=='endToEndDelay:histogram']\n"
     ]
    },
    {
     "data": {
      "text/plain": [
       "112"
      ]
     },
     "execution_count": 47,
     "metadata": {},
     "output_type": "execute_result"
    }
   ],
   "source": [
    "histograms = aloha[aloha.type=='histogram']\n",
    "endToEndDelayHistograms = histograms[aloha.name=='endToEndDelay:histogram']\n",
    "len(endToEndDelayHistograms)\n"
   ]
  },
  {
   "cell_type": "code",
   "execution_count": 49,
   "metadata": {},
   "outputs": [
    {
     "data": {
      "text/plain": [
       "run                     MAM50-BMRELAY-0-20200812-04:30:43-18189\n",
       "type                                                  histogram\n",
       "module                                  MAM50.collector1.app[0]\n",
       "name                                    endToEndDelay:histogram\n",
       "attrname                                                    NaN\n",
       "attrvalue                                                  None\n",
       "value                                                       NaN\n",
       "count                                                      2161\n",
       "sumweights                                                  NaN\n",
       "mean                                                  0.0314659\n",
       "stddev                                                0.0275305\n",
       "min                                                           0\n",
       "max                                                    0.155902\n",
       "binedges      [0.0, 0.002, 0.004, 0.006, 0.008, 0.01, 0.012,...\n",
       "binvalues     [228.0, 181.0, 84.0, 77.0, 72.0, 65.0, 46.0, 4...\n",
       "Name: 537491, dtype: object"
      ]
     },
     "execution_count": 49,
     "metadata": {},
     "output_type": "execute_result"
    }
   ],
   "source": [
    "def getHistogramData(histogramName, runData):\n",
    "    histograms = runData[runData.type == 'histogram']\n",
    "    histogram = histograms[histograms.name == histogramName]\n",
    "    if len(histogram) == 0:\n",
    "        raise Exception('Histogram not found')\n",
    "    if len(histogram) > 1:\n",
    "        raise Exception('Histogram match not unique')\n",
    "    return histogram.iloc[0]\n",
    "\n",
    "hist = getHistogramData(histogramName='endToEndDelay:histogram', \n",
    "                        runData=getRunData(findBluetoothRelayRun(speed=2, configName='MAM50-BMRELAY')))\n",
    "hist"
   ]
  },
  {
   "cell_type": "code",
   "execution_count": 50,
   "metadata": {},
   "outputs": [
    {
     "data": {
      "text/plain": [
       "run                    MAM50-MAMRELAY-6-20200812-04:35:17-18291\n",
       "type                                                  histogram\n",
       "module                                  MAM50.collector1.app[0]\n",
       "name                                    endToEndDelay:histogram\n",
       "attrname                                                    NaN\n",
       "attrvalue                                                  None\n",
       "value                                                       NaN\n",
       "count                                                      2401\n",
       "sumweights                                                  NaN\n",
       "mean                                                  0.0636499\n",
       "stddev                                                0.0624063\n",
       "min                                                           0\n",
       "max                                                    0.347691\n",
       "binedges      [0.0, 0.004, 0.008, 0.012, 0.016, 0.02, 0.024,...\n",
       "binvalues     [387.0, 114.0, 86.0, 77.0, 70.0, 72.0, 67.0, 8...\n",
       "Name: 544895, dtype: object"
      ]
     },
     "execution_count": 50,
     "metadata": {},
     "output_type": "execute_result"
    }
   ],
   "source": [
    "hist2 = getHistogramData(histogramName='endToEndDelay:histogram', \n",
    "                        runData=getRunData(findMAMRelayRun(speed=2, delta=10, configName='MAM50-MAMRELAY')))\n",
    "hist2"
   ]
  },
  {
   "cell_type": "code",
   "execution_count": 51,
   "metadata": {},
   "outputs": [
    {
     "data": {
      "text/plain": [
       "(array([0.   , 0.004, 0.008, 0.012, 0.016, 0.02 , 0.024, 0.028, 0.032,\n",
       "        0.036, 0.04 , 0.044, 0.048, 0.052, 0.056, 0.06 , 0.064, 0.068,\n",
       "        0.072, 0.076, 0.08 , 0.084, 0.088, 0.092, 0.096, 0.1  , 0.104,\n",
       "        0.108, 0.112, 0.116, 0.12 , 0.124, 0.128, 0.132, 0.136, 0.14 ,\n",
       "        0.144, 0.148, 0.152, 0.156, 0.16 , 0.164, 0.168, 0.172, 0.176,\n",
       "        0.18 , 0.184, 0.188, 0.192, 0.196, 0.2  , 0.204, 0.208, 0.212,\n",
       "        0.216, 0.22 , 0.224, 0.228, 0.232, 0.236, 0.24 , 0.244, 0.248,\n",
       "        0.252, 0.256, 0.26 , 0.264, 0.268, 0.272, 0.276, 0.28 , 0.284,\n",
       "        0.288, 0.292, 0.296, 0.3  , 0.304, 0.308, 0.312, 0.316, 0.32 ,\n",
       "        0.324, 0.328, 0.332, 0.336, 0.34 , 0.344, 0.348]),\n",
       " array([387., 114.,  86.,  77.,  70.,  72.,  67.,  87.,  60.,  66.,  77.,\n",
       "         79.,  55.,  64.,  57.,  58.,  49.,  48.,  47.,  43.,  48.,  47.,\n",
       "         43.,  36.,  26.,  29.,  13.,  13.,  25.,  20.,  23.,  36.,  20.,\n",
       "         19.,  14.,  15.,  12.,  21.,  25.,  18.,  21.,  14.,  17.,   9.,\n",
       "         17.,  14.,   6.,   9.,  14.,  14.,  14.,   6.,   7.,   5.,   6.,\n",
       "          6.,   7.,   9.,   3.,   7.,   2.,   2.,   4.,   1.,   4.,   0.,\n",
       "          3.,   0.,   1.,   2.,   1.,   0.,   3.,   0.,   2.,   0.,   2.,\n",
       "          0.,   0.,   1.,   0.,   0.,   0.,   0.,   0.,   0.,   2.]))"
      ]
     },
     "execution_count": 51,
     "metadata": {},
     "output_type": "execute_result"
    }
   ],
   "source": [
    "hist2.binedges, hist2.binvalues"
   ]
  },
  {
   "cell_type": "code",
   "execution_count": 52,
   "metadata": {},
   "outputs": [
    {
     "data": {
      "image/png": "[encoded data removed]",
      "text/plain": [
       "<Figure size 432x288 with 1 Axes>"
      ]
     },
     "metadata": {
      "needs_background": "light"
     },
     "output_type": "display_data"
    },
    {
     "data": {
      "image/png": "[encoded data removed]",
      "text/plain": [
       "<Figure size 432x288 with 1 Axes>"
      ]
     },
     "metadata": {
      "needs_background": "light"
     },
     "output_type": "display_data"
    }
   ],
   "source": [
    "\n",
    "plt.hist(bins=hist.binedges, x=hist.binedges[:-1], weights=hist.binvalues, label=\"delay (s)\")\n",
    "plt.legend(title=runPrefix)\n",
    "plt.show()\n",
    "\n",
    "plt.hist(bins=hist2.binedges, x=hist2.binedges[:-1], weights=hist2.binvalues, label=\"delay (s)\")\n",
    "plt.legend(title=run2Prefix)\n",
    "plt.show()"
   ]
  },
  {
   "cell_type": "code",
   "execution_count": 31,
   "metadata": {},
   "outputs": [
    {
     "data": {
      "text/plain": [
       "'2.005458952568432% MAM50-MAMRELAY-6 energy efficiency compared to MAM50-BMRELAY-0'"
      ]
     },
     "execution_count": 31,
     "metadata": {},
     "output_type": "execute_result"
    }
   ],
   "source": [
    "str(100-energyConsumption2Sum/energyConsumptionSum*100) + '% ' + run2Prefix + ' energy efficiency compared to ' + runPrefix"
   ]
  },
  {
   "cell_type": "code",
   "execution_count": 34,
   "metadata": {},
   "outputs": [
    {
     "data": {
      "image/png": "[encoded data removed]",
      "text/plain": [
       "<Figure size 648x432 with 1 Axes>"
      ]
     },
     "metadata": {
      "needs_background": "light"
     },
     "output_type": "display_data"
    }
   ],
   "source": [
    "# Create a figure instance\n",
    "fig = plt.figure(1, figsize=(9, 6))\n",
    "\n",
    "# Create an axes instance\n",
    "ax = fig.add_subplot(111)\n",
    "\n",
    "a = []\n",
    "\n",
    "i = 0\n",
    "for aa in hist.binedges[:-1]:\n",
    "    for j in range(1,hist.binvalues[i].astype(np.int)):\n",
    "        a.append(aa)\n",
    "    i = i + 1\n",
    "\n",
    "b = []\n",
    "\n",
    "i = 0\n",
    "for aa in hist2.binedges[:-1]:\n",
    "    for j in range(1,hist2.binvalues[i].astype(np.int)):\n",
    "        b.append(aa)\n",
    "    i = i + 1\n",
    "    \n",
    "data_to_plot = [a, b]\n",
    "\n",
    "# Create the boxplot\n",
    "bp = ax.boxplot(data_to_plot)\n",
    "\n",
    "# Save the figure\n",
    "fig.savefig('fig1.png', bbox_inches='tight')"
   ]
  },
  {
   "cell_type": "code",
   "execution_count": 33,
   "metadata": {},
   "outputs": [],
   "source": [
    "#TODO mhub data received bar chart. energy draw bar chart."
   ]
  }
 ],
 "metadata": {
  "kernelspec": {
   "display_name": "Python 3",
   "language": "python",
   "name": "python3"
  },
  "language_info": {
   "codemirror_mode": {
    "name": "ipython",
    "version": 3
   },
   "file_extension": ".py",
   "mimetype": "text/x-python",
   "name": "python",
   "nbconvert_exporter": "python",
   "pygments_lexer": "ipython3",
   "version": "3.8.2"
  }
 },
 "nbformat": 4,
 "nbformat_minor": 4
}
