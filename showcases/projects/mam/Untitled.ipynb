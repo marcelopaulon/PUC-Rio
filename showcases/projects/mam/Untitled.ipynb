{
 "cells": [
  {
   "cell_type": "code",
   "execution_count": 1,
   "metadata": {},
   "outputs": [],
   "source": [
    "import pandas as pd\n",
    "import numpy as np\n",
    "import matplotlib.pyplot as plt\n",
    "%matplotlib inline\n",
    "\n",
    "def parse_if_number(s):\n",
    "    try: return float(s)\n",
    "    except: return True if s==\"true\" else False if s==\"false\" else s if s else None\n",
    "\n",
    "def parse_ndarray(s):\n",
    "    return np.fromstring(s, sep=' ') if s else None\n",
    "\n"
   ]
  },
  {
   "cell_type": "code",
   "execution_count": 2,
   "metadata": {},
   "outputs": [],
   "source": [
    "aloha = pd.read_csv('results/aloha.csv', encoding='latin-1', converters = {\n",
    "    'attrvalue': parse_if_number,\n",
    "    'binedges': parse_ndarray,\n",
    "    'binvalues': parse_ndarray,\n",
    "    'vectime': parse_ndarray,\n",
    "    'vecvalue': parse_ndarray})\n"
   ]
  },
  {
   "cell_type": "code",
   "execution_count": 3,
   "metadata": {},
   "outputs": [
    {
     "data": {
      "text/html": [
       "<div>\n",
       "<style scoped>\n",
       "    .dataframe tbody tr th:only-of-type {\n",
       "        vertical-align: middle;\n",
       "    }\n",
       "\n",
       "    .dataframe tbody tr th {\n",
       "        vertical-align: top;\n",
       "    }\n",
       "\n",
       "    .dataframe thead th {\n",
       "        text-align: right;\n",
       "    }\n",
       "</style>\n",
       "<table border=\"1\" class=\"dataframe\">\n",
       "  <thead>\n",
       "    <tr style=\"text-align: right;\">\n",
       "      <th></th>\n",
       "      <th>run</th>\n",
       "      <th>type</th>\n",
       "      <th>module</th>\n",
       "      <th>name</th>\n",
       "      <th>attrname</th>\n",
       "      <th>attrvalue</th>\n",
       "      <th>value</th>\n",
       "      <th>count</th>\n",
       "      <th>sumweights</th>\n",
       "      <th>mean</th>\n",
       "      <th>stddev</th>\n",
       "      <th>min</th>\n",
       "      <th>max</th>\n",
       "      <th>binedges</th>\n",
       "      <th>binvalues</th>\n",
       "    </tr>\n",
       "  </thead>\n",
       "  <tbody>\n",
       "    <tr>\n",
       "      <th>0</th>\n",
       "      <td>MAM10-BMRELAY-2-20200913-16:56:29-159411</td>\n",
       "      <td>runattr</td>\n",
       "      <td>NaN</td>\n",
       "      <td>NaN</td>\n",
       "      <td>configname</td>\n",
       "      <td>MAM10-BMRELAY</td>\n",
       "      <td>NaN</td>\n",
       "      <td>NaN</td>\n",
       "      <td>NaN</td>\n",
       "      <td>NaN</td>\n",
       "      <td>NaN</td>\n",
       "      <td>NaN</td>\n",
       "      <td>NaN</td>\n",
       "      <td>None</td>\n",
       "      <td>None</td>\n",
       "    </tr>\n",
       "    <tr>\n",
       "      <th>1</th>\n",
       "      <td>MAM10-BMRELAY-2-20200913-16:56:29-159411</td>\n",
       "      <td>runattr</td>\n",
       "      <td>NaN</td>\n",
       "      <td>NaN</td>\n",
       "      <td>datetime</td>\n",
       "      <td>20200913-16:56:29</td>\n",
       "      <td>NaN</td>\n",
       "      <td>NaN</td>\n",
       "      <td>NaN</td>\n",
       "      <td>NaN</td>\n",
       "      <td>NaN</td>\n",
       "      <td>NaN</td>\n",
       "      <td>NaN</td>\n",
       "      <td>None</td>\n",
       "      <td>None</td>\n",
       "    </tr>\n",
       "    <tr>\n",
       "      <th>2</th>\n",
       "      <td>MAM10-BMRELAY-2-20200913-16:56:29-159411</td>\n",
       "      <td>runattr</td>\n",
       "      <td>NaN</td>\n",
       "      <td>NaN</td>\n",
       "      <td>experiment</td>\n",
       "      <td>MAM10-BMRELAY</td>\n",
       "      <td>NaN</td>\n",
       "      <td>NaN</td>\n",
       "      <td>NaN</td>\n",
       "      <td>NaN</td>\n",
       "      <td>NaN</td>\n",
       "      <td>NaN</td>\n",
       "      <td>NaN</td>\n",
       "      <td>None</td>\n",
       "      <td>None</td>\n",
       "    </tr>\n",
       "    <tr>\n",
       "      <th>3</th>\n",
       "      <td>MAM10-BMRELAY-2-20200913-16:56:29-159411</td>\n",
       "      <td>runattr</td>\n",
       "      <td>NaN</td>\n",
       "      <td>NaN</td>\n",
       "      <td>inifile</td>\n",
       "      <td>omnetpp.ini</td>\n",
       "      <td>NaN</td>\n",
       "      <td>NaN</td>\n",
       "      <td>NaN</td>\n",
       "      <td>NaN</td>\n",
       "      <td>NaN</td>\n",
       "      <td>NaN</td>\n",
       "      <td>NaN</td>\n",
       "      <td>None</td>\n",
       "      <td>None</td>\n",
       "    </tr>\n",
       "    <tr>\n",
       "      <th>4</th>\n",
       "      <td>MAM10-BMRELAY-2-20200913-16:56:29-159411</td>\n",
       "      <td>runattr</td>\n",
       "      <td>NaN</td>\n",
       "      <td>NaN</td>\n",
       "      <td>iterationvars</td>\n",
       "      <td>$delta=0, $speedMps=14</td>\n",
       "      <td>NaN</td>\n",
       "      <td>NaN</td>\n",
       "      <td>NaN</td>\n",
       "      <td>NaN</td>\n",
       "      <td>NaN</td>\n",
       "      <td>NaN</td>\n",
       "      <td>NaN</td>\n",
       "      <td>None</td>\n",
       "      <td>None</td>\n",
       "    </tr>\n",
       "  </tbody>\n",
       "</table>\n",
       "</div>"
      ],
      "text/plain": [
       "                                        run     type module name  \\\n",
       "0  MAM10-BMRELAY-2-20200913-16:56:29-159411  runattr    NaN  NaN   \n",
       "1  MAM10-BMRELAY-2-20200913-16:56:29-159411  runattr    NaN  NaN   \n",
       "2  MAM10-BMRELAY-2-20200913-16:56:29-159411  runattr    NaN  NaN   \n",
       "3  MAM10-BMRELAY-2-20200913-16:56:29-159411  runattr    NaN  NaN   \n",
       "4  MAM10-BMRELAY-2-20200913-16:56:29-159411  runattr    NaN  NaN   \n",
       "\n",
       "        attrname               attrvalue  value  count  sumweights  mean  \\\n",
       "0     configname           MAM10-BMRELAY    NaN    NaN         NaN   NaN   \n",
       "1       datetime       20200913-16:56:29    NaN    NaN         NaN   NaN   \n",
       "2     experiment           MAM10-BMRELAY    NaN    NaN         NaN   NaN   \n",
       "3        inifile             omnetpp.ini    NaN    NaN         NaN   NaN   \n",
       "4  iterationvars  $delta=0, $speedMps=14    NaN    NaN         NaN   NaN   \n",
       "\n",
       "   stddev  min  max binedges binvalues  \n",
       "0     NaN  NaN  NaN     None      None  \n",
       "1     NaN  NaN  NaN     None      None  \n",
       "2     NaN  NaN  NaN     None      None  \n",
       "3     NaN  NaN  NaN     None      None  \n",
       "4     NaN  NaN  NaN     None      None  "
      ]
     },
     "execution_count": 3,
     "metadata": {},
     "output_type": "execute_result"
    }
   ],
   "source": [
    "aloha.head()\n"
   ]
  },
  {
   "cell_type": "code",
   "execution_count": 4,
   "metadata": {},
   "outputs": [
    {
     "data": {
      "text/plain": [
       "array(['delta', 'speedMps'], dtype=object)"
      ]
     },
     "execution_count": 4,
     "metadata": {},
     "output_type": "execute_result"
    }
   ],
   "source": [
    "allAttrs = aloha[(aloha.type == 'itervar')]['attrname'].unique()\n",
    "allAttrs.sort()\n",
    "allAttrs"
   ]
  },
  {
   "cell_type": "code",
   "execution_count": 5,
   "metadata": {},
   "outputs": [
    {
     "data": {
      "text/plain": [
       "array(['\"BMesh\"', '\"MAM\"'], dtype=object)"
      ]
     },
     "execution_count": 5,
     "metadata": {},
     "output_type": "execute_result"
    }
   ],
   "source": [
    "allRelayModes = aloha[(aloha['attrname'].str.contains('.app[0].relayMode', na=False, regex=False))]['attrvalue'].unique()\n",
    "allRelayModes.sort()\n",
    "allRelayModes"
   ]
  },
  {
   "cell_type": "code",
   "execution_count": 6,
   "metadata": {},
   "outputs": [
    {
     "data": {
      "text/plain": [
       "array([2.0, 6.0, 14.0], dtype=object)"
      ]
     },
     "execution_count": 6,
     "metadata": {},
     "output_type": "execute_result"
    }
   ],
   "source": [
    "allSpeeds = aloha[(aloha.attrname == 'speedMps')]['attrvalue'].unique()\n",
    "allSpeeds.sort()\n",
    "allSpeeds"
   ]
  },
  {
   "cell_type": "code",
   "execution_count": 7,
   "metadata": {},
   "outputs": [
    {
     "data": {
      "text/plain": [
       "array([2.0, 5.0, 10.0, 20.0, 50.0, 100.0, 500.0, 1000.0, 5000.0, 10000.0,\n",
       "       15000.0, 20000.0], dtype=object)"
      ]
     },
     "execution_count": 7,
     "metadata": {},
     "output_type": "execute_result"
    }
   ],
   "source": [
    "allDeltas = aloha[(aloha.attrname == 'delta')]['attrvalue'].unique()\n",
    "allDeltas.sort()\n",
    "allDeltas = allDeltas[1:]\n",
    "allDeltas"
   ]
  },
  {
   "cell_type": "code",
   "execution_count": 8,
   "metadata": {},
   "outputs": [
    {
     "data": {
      "text/plain": [
       "run\n",
       "MAM10-BMRELAY-0-20200913-16:56:21-159411      2545\n",
       "MAM10-BMRELAY-1-20200913-16:56:26-159411      2544\n",
       "MAM10-BMRELAY-2-20200913-16:56:29-159411      2543\n",
       "MAM10-MAMRELAY-0-20200913-16:56:32-159426     2545\n",
       "MAM10-MAMRELAY-1-20200913-16:56:36-159426     2544\n",
       "                                             ...  \n",
       "MAM50-MAMRELAY-5-20200913-16:34:32-158824    11585\n",
       "MAM50-MAMRELAY-6-20200913-16:34:57-158824    11587\n",
       "MAM50-MAMRELAY-7-20200913-16:35:33-158824    11587\n",
       "MAM50-MAMRELAY-8-20200913-16:36:19-158824    11586\n",
       "MAM50-MAMRELAY-9-20200913-16:36:49-158824    11589\n",
       "Length: 114, dtype: int64"
      ]
     },
     "execution_count": 8,
     "metadata": {},
     "output_type": "execute_result"
    }
   ],
   "source": [
    "dataByRun = aloha.groupby(['run'])\n",
    "dataByRun.size()"
   ]
  },
  {
   "cell_type": "code",
   "execution_count": 9,
   "metadata": {},
   "outputs": [
    {
     "data": {
      "text/plain": [
       "'MAM10-BMRELAY-1-20200913-16:56:26-159411'"
      ]
     },
     "execution_count": 9,
     "metadata": {},
     "output_type": "execute_result"
    }
   ],
   "source": [
    "\n",
    "def findBluetoothRelayRun(speed, configName):\n",
    "    def testA(x):\n",
    "        bmeshMatch = x[(x['attrname'].str.contains('.app[0].relayMode', na=False, regex=False))]['attrvalue'].iloc[0] == '\"BMesh\"'\n",
    "        speedMatch = x[(x.attrname == 'speedMps')]['attrvalue'].iloc[0] == speed\n",
    "        configNameMatch = x[(x.attrname == 'configname')]['attrvalue'].iloc[0] == configName\n",
    "    \n",
    "        return bmeshMatch & speedMatch & configNameMatch\n",
    "\n",
    "    s = pd.Series(dataByRun.apply(testA))\n",
    "    s = s[s == True]\n",
    "    if len(s) == 0:\n",
    "        raise Exception(\"Bluetooth Relay run not found for speed=\" + str(speed) + \" configName=\" + configName)\n",
    "    if len(s) > 1:\n",
    "        raise Exception(\"Bluetooth Relay run duplicate for speed=\" + str(speed) + \" configName=\" + configName)\n",
    "    return s.index[0]\n",
    "\n",
    "findBluetoothRelayRun(speed=6, configName='MAM10-BMRELAY')\n",
    "\n"
   ]
  },
  {
   "cell_type": "code",
   "execution_count": 10,
   "metadata": {},
   "outputs": [
    {
     "data": {
      "text/plain": [
       "'MAM50-MAMRELAY-3-20200913-16:33:17-158824'"
      ]
     },
     "execution_count": 10,
     "metadata": {},
     "output_type": "execute_result"
    }
   ],
   "source": [
    "\n",
    "def findMAMRelayRun(speed, delta, configName):\n",
    "    def testA(x):\n",
    "        bmeshMatch = x[(x['attrname'].str.contains('.app[0].relayMode', na=False, regex=False))]['attrvalue'].iloc[0] == '\"MAM\"'\n",
    "        speedMatch = x[(x.attrname == 'speedMps')]['attrvalue'].iloc[0] == speed\n",
    "        deltaMatch = x[(x.attrname == 'delta')]['attrvalue'].iloc[0] == delta\n",
    "        configNameMatch = x[(x.attrname == 'configname')]['attrvalue'].iloc[0] == configName\n",
    "    \n",
    "        return bmeshMatch & speedMatch & deltaMatch & configNameMatch\n",
    "\n",
    "    s = pd.Series(dataByRun.apply(testA))\n",
    "    s = s[s == True]\n",
    "    if len(s) == 0:\n",
    "        raise Exception(\"MAM Relay run not found for speed=\" + str(speed) + \" delta=\" + str(delta) + \" configName=\" + configName)\n",
    "    if len(s) > 1:\n",
    "        raise Exception(\"MAM Relay run duplicate for speed=\" + str(speed) + \" delta=\" + str(delta) + \" configName=\" + configName)\n",
    "    return s.index[0]\n",
    "\n",
    "findMAMRelayRun(speed=2, delta=5, configName='MAM50-MAMRELAY')\n"
   ]
  },
  {
   "cell_type": "code",
   "execution_count": 11,
   "metadata": {},
   "outputs": [
    {
     "data": {
      "text/html": [
       "<div>\n",
       "<style scoped>\n",
       "    .dataframe tbody tr th:only-of-type {\n",
       "        vertical-align: middle;\n",
       "    }\n",
       "\n",
       "    .dataframe tbody tr th {\n",
       "        vertical-align: top;\n",
       "    }\n",
       "\n",
       "    .dataframe thead th {\n",
       "        text-align: right;\n",
       "    }\n",
       "</style>\n",
       "<table border=\"1\" class=\"dataframe\">\n",
       "  <thead>\n",
       "    <tr style=\"text-align: right;\">\n",
       "      <th></th>\n",
       "      <th>run</th>\n",
       "      <th>type</th>\n",
       "      <th>module</th>\n",
       "      <th>name</th>\n",
       "      <th>attrname</th>\n",
       "      <th>attrvalue</th>\n",
       "      <th>value</th>\n",
       "      <th>count</th>\n",
       "      <th>sumweights</th>\n",
       "      <th>mean</th>\n",
       "      <th>stddev</th>\n",
       "      <th>min</th>\n",
       "      <th>max</th>\n",
       "      <th>binedges</th>\n",
       "      <th>binvalues</th>\n",
       "    </tr>\n",
       "  </thead>\n",
       "  <tbody>\n",
       "    <tr>\n",
       "      <th>237</th>\n",
       "      <td>MAM10-BMRELAY-1-20200913-16:56:26-159411</td>\n",
       "      <td>runattr</td>\n",
       "      <td>NaN</td>\n",
       "      <td>NaN</td>\n",
       "      <td>configname</td>\n",
       "      <td>MAM10-BMRELAY</td>\n",
       "      <td>NaN</td>\n",
       "      <td>NaN</td>\n",
       "      <td>NaN</td>\n",
       "      <td>NaN</td>\n",
       "      <td>NaN</td>\n",
       "      <td>NaN</td>\n",
       "      <td>NaN</td>\n",
       "      <td>None</td>\n",
       "      <td>None</td>\n",
       "    </tr>\n",
       "    <tr>\n",
       "      <th>238</th>\n",
       "      <td>MAM10-BMRELAY-1-20200913-16:56:26-159411</td>\n",
       "      <td>runattr</td>\n",
       "      <td>NaN</td>\n",
       "      <td>NaN</td>\n",
       "      <td>datetime</td>\n",
       "      <td>20200913-16:56:26</td>\n",
       "      <td>NaN</td>\n",
       "      <td>NaN</td>\n",
       "      <td>NaN</td>\n",
       "      <td>NaN</td>\n",
       "      <td>NaN</td>\n",
       "      <td>NaN</td>\n",
       "      <td>NaN</td>\n",
       "      <td>None</td>\n",
       "      <td>None</td>\n",
       "    </tr>\n",
       "    <tr>\n",
       "      <th>239</th>\n",
       "      <td>MAM10-BMRELAY-1-20200913-16:56:26-159411</td>\n",
       "      <td>runattr</td>\n",
       "      <td>NaN</td>\n",
       "      <td>NaN</td>\n",
       "      <td>experiment</td>\n",
       "      <td>MAM10-BMRELAY</td>\n",
       "      <td>NaN</td>\n",
       "      <td>NaN</td>\n",
       "      <td>NaN</td>\n",
       "      <td>NaN</td>\n",
       "      <td>NaN</td>\n",
       "      <td>NaN</td>\n",
       "      <td>NaN</td>\n",
       "      <td>None</td>\n",
       "      <td>None</td>\n",
       "    </tr>\n",
       "    <tr>\n",
       "      <th>240</th>\n",
       "      <td>MAM10-BMRELAY-1-20200913-16:56:26-159411</td>\n",
       "      <td>runattr</td>\n",
       "      <td>NaN</td>\n",
       "      <td>NaN</td>\n",
       "      <td>inifile</td>\n",
       "      <td>omnetpp.ini</td>\n",
       "      <td>NaN</td>\n",
       "      <td>NaN</td>\n",
       "      <td>NaN</td>\n",
       "      <td>NaN</td>\n",
       "      <td>NaN</td>\n",
       "      <td>NaN</td>\n",
       "      <td>NaN</td>\n",
       "      <td>None</td>\n",
       "      <td>None</td>\n",
       "    </tr>\n",
       "    <tr>\n",
       "      <th>241</th>\n",
       "      <td>MAM10-BMRELAY-1-20200913-16:56:26-159411</td>\n",
       "      <td>runattr</td>\n",
       "      <td>NaN</td>\n",
       "      <td>NaN</td>\n",
       "      <td>iterationvars</td>\n",
       "      <td>$delta=0, $speedMps=6</td>\n",
       "      <td>NaN</td>\n",
       "      <td>NaN</td>\n",
       "      <td>NaN</td>\n",
       "      <td>NaN</td>\n",
       "      <td>NaN</td>\n",
       "      <td>NaN</td>\n",
       "      <td>NaN</td>\n",
       "      <td>None</td>\n",
       "      <td>None</td>\n",
       "    </tr>\n",
       "    <tr>\n",
       "      <th>...</th>\n",
       "      <td>...</td>\n",
       "      <td>...</td>\n",
       "      <td>...</td>\n",
       "      <td>...</td>\n",
       "      <td>...</td>\n",
       "      <td>...</td>\n",
       "      <td>...</td>\n",
       "      <td>...</td>\n",
       "      <td>...</td>\n",
       "      <td>...</td>\n",
       "      <td>...</td>\n",
       "      <td>...</td>\n",
       "      <td>...</td>\n",
       "      <td>...</td>\n",
       "      <td>...</td>\n",
       "    </tr>\n",
       "    <tr>\n",
       "      <th>547097</th>\n",
       "      <td>MAM10-BMRELAY-1-20200913-16:56:26-159411</td>\n",
       "      <td>histogram</td>\n",
       "      <td>MAM10.collector1.app[0]</td>\n",
       "      <td>endToEndDelay:histogram</td>\n",
       "      <td>NaN</td>\n",
       "      <td>None</td>\n",
       "      <td>NaN</td>\n",
       "      <td>2831.0</td>\n",
       "      <td>NaN</td>\n",
       "      <td>0.020288</td>\n",
       "      <td>0.017425</td>\n",
       "      <td>0.0</td>\n",
       "      <td>0.112217</td>\n",
       "      <td>[0.0, 0.002, 0.004, 0.006, 0.008, 0.01, 0.012,...</td>\n",
       "      <td>[252.0, 278.0, 152.0, 174.0, 151.0, 130.0, 137...</td>\n",
       "    </tr>\n",
       "    <tr>\n",
       "      <th>547098</th>\n",
       "      <td>MAM10-BMRELAY-1-20200913-16:56:26-159411</td>\n",
       "      <td>attr</td>\n",
       "      <td>MAM10.collector1.app[0]</td>\n",
       "      <td>endToEndDelay:histogram</td>\n",
       "      <td>interpolationmode</td>\n",
       "      <td>none</td>\n",
       "      <td>NaN</td>\n",
       "      <td>NaN</td>\n",
       "      <td>NaN</td>\n",
       "      <td>NaN</td>\n",
       "      <td>NaN</td>\n",
       "      <td>NaN</td>\n",
       "      <td>NaN</td>\n",
       "      <td>None</td>\n",
       "      <td>None</td>\n",
       "    </tr>\n",
       "    <tr>\n",
       "      <th>547099</th>\n",
       "      <td>MAM10-BMRELAY-1-20200913-16:56:26-159411</td>\n",
       "      <td>attr</td>\n",
       "      <td>MAM10.collector1.app[0]</td>\n",
       "      <td>endToEndDelay:histogram</td>\n",
       "      <td>source</td>\n",
       "      <td>dataAge(packetReceived)</td>\n",
       "      <td>NaN</td>\n",
       "      <td>NaN</td>\n",
       "      <td>NaN</td>\n",
       "      <td>NaN</td>\n",
       "      <td>NaN</td>\n",
       "      <td>NaN</td>\n",
       "      <td>NaN</td>\n",
       "      <td>None</td>\n",
       "      <td>None</td>\n",
       "    </tr>\n",
       "    <tr>\n",
       "      <th>547100</th>\n",
       "      <td>MAM10-BMRELAY-1-20200913-16:56:26-159411</td>\n",
       "      <td>attr</td>\n",
       "      <td>MAM10.collector1.app[0]</td>\n",
       "      <td>endToEndDelay:histogram</td>\n",
       "      <td>title</td>\n",
       "      <td>end-to-end delay, histogram</td>\n",
       "      <td>NaN</td>\n",
       "      <td>NaN</td>\n",
       "      <td>NaN</td>\n",
       "      <td>NaN</td>\n",
       "      <td>NaN</td>\n",
       "      <td>NaN</td>\n",
       "      <td>NaN</td>\n",
       "      <td>None</td>\n",
       "      <td>None</td>\n",
       "    </tr>\n",
       "    <tr>\n",
       "      <th>547101</th>\n",
       "      <td>MAM10-BMRELAY-1-20200913-16:56:26-159411</td>\n",
       "      <td>attr</td>\n",
       "      <td>MAM10.collector1.app[0]</td>\n",
       "      <td>endToEndDelay:histogram</td>\n",
       "      <td>unit</td>\n",
       "      <td>s</td>\n",
       "      <td>NaN</td>\n",
       "      <td>NaN</td>\n",
       "      <td>NaN</td>\n",
       "      <td>NaN</td>\n",
       "      <td>NaN</td>\n",
       "      <td>NaN</td>\n",
       "      <td>NaN</td>\n",
       "      <td>None</td>\n",
       "      <td>None</td>\n",
       "    </tr>\n",
       "  </tbody>\n",
       "</table>\n",
       "<p>2544 rows × 15 columns</p>\n",
       "</div>"
      ],
      "text/plain": [
       "                                             run       type  \\\n",
       "237     MAM10-BMRELAY-1-20200913-16:56:26-159411    runattr   \n",
       "238     MAM10-BMRELAY-1-20200913-16:56:26-159411    runattr   \n",
       "239     MAM10-BMRELAY-1-20200913-16:56:26-159411    runattr   \n",
       "240     MAM10-BMRELAY-1-20200913-16:56:26-159411    runattr   \n",
       "241     MAM10-BMRELAY-1-20200913-16:56:26-159411    runattr   \n",
       "...                                          ...        ...   \n",
       "547097  MAM10-BMRELAY-1-20200913-16:56:26-159411  histogram   \n",
       "547098  MAM10-BMRELAY-1-20200913-16:56:26-159411       attr   \n",
       "547099  MAM10-BMRELAY-1-20200913-16:56:26-159411       attr   \n",
       "547100  MAM10-BMRELAY-1-20200913-16:56:26-159411       attr   \n",
       "547101  MAM10-BMRELAY-1-20200913-16:56:26-159411       attr   \n",
       "\n",
       "                         module                     name           attrname  \\\n",
       "237                         NaN                      NaN         configname   \n",
       "238                         NaN                      NaN           datetime   \n",
       "239                         NaN                      NaN         experiment   \n",
       "240                         NaN                      NaN            inifile   \n",
       "241                         NaN                      NaN      iterationvars   \n",
       "...                         ...                      ...                ...   \n",
       "547097  MAM10.collector1.app[0]  endToEndDelay:histogram                NaN   \n",
       "547098  MAM10.collector1.app[0]  endToEndDelay:histogram  interpolationmode   \n",
       "547099  MAM10.collector1.app[0]  endToEndDelay:histogram             source   \n",
       "547100  MAM10.collector1.app[0]  endToEndDelay:histogram              title   \n",
       "547101  MAM10.collector1.app[0]  endToEndDelay:histogram               unit   \n",
       "\n",
       "                          attrvalue  value   count  sumweights      mean  \\\n",
       "237                   MAM10-BMRELAY    NaN     NaN         NaN       NaN   \n",
       "238               20200913-16:56:26    NaN     NaN         NaN       NaN   \n",
       "239                   MAM10-BMRELAY    NaN     NaN         NaN       NaN   \n",
       "240                     omnetpp.ini    NaN     NaN         NaN       NaN   \n",
       "241           $delta=0, $speedMps=6    NaN     NaN         NaN       NaN   \n",
       "...                             ...    ...     ...         ...       ...   \n",
       "547097                         None    NaN  2831.0         NaN  0.020288   \n",
       "547098                         none    NaN     NaN         NaN       NaN   \n",
       "547099      dataAge(packetReceived)    NaN     NaN         NaN       NaN   \n",
       "547100  end-to-end delay, histogram    NaN     NaN         NaN       NaN   \n",
       "547101                            s    NaN     NaN         NaN       NaN   \n",
       "\n",
       "          stddev  min       max  \\\n",
       "237          NaN  NaN       NaN   \n",
       "238          NaN  NaN       NaN   \n",
       "239          NaN  NaN       NaN   \n",
       "240          NaN  NaN       NaN   \n",
       "241          NaN  NaN       NaN   \n",
       "...          ...  ...       ...   \n",
       "547097  0.017425  0.0  0.112217   \n",
       "547098       NaN  NaN       NaN   \n",
       "547099       NaN  NaN       NaN   \n",
       "547100       NaN  NaN       NaN   \n",
       "547101       NaN  NaN       NaN   \n",
       "\n",
       "                                                 binedges  \\\n",
       "237                                                  None   \n",
       "238                                                  None   \n",
       "239                                                  None   \n",
       "240                                                  None   \n",
       "241                                                  None   \n",
       "...                                                   ...   \n",
       "547097  [0.0, 0.002, 0.004, 0.006, 0.008, 0.01, 0.012,...   \n",
       "547098                                               None   \n",
       "547099                                               None   \n",
       "547100                                               None   \n",
       "547101                                               None   \n",
       "\n",
       "                                                binvalues  \n",
       "237                                                  None  \n",
       "238                                                  None  \n",
       "239                                                  None  \n",
       "240                                                  None  \n",
       "241                                                  None  \n",
       "...                                                   ...  \n",
       "547097  [252.0, 278.0, 152.0, 174.0, 151.0, 130.0, 137...  \n",
       "547098                                               None  \n",
       "547099                                               None  \n",
       "547100                                               None  \n",
       "547101                                               None  \n",
       "\n",
       "[2544 rows x 15 columns]"
      ]
     },
     "execution_count": 11,
     "metadata": {},
     "output_type": "execute_result"
    }
   ],
   "source": [
    "def getRunData(run):\n",
    "    return aloha[aloha.run == run]\n",
    "\n",
    "def getCollectorRunScalars(run):\n",
    "    runData = aloha[aloha.run == run]\n",
    "    runData = runData[(runData.type=='scalar')]\n",
    "    return runData[runData['module'].str.contains('collector1.app')]\n",
    "\n",
    "getRunData(findBluetoothRelayRun(speed=6, configName='MAM10-BMRELAY'))"
   ]
  },
  {
   "cell_type": "code",
   "execution_count": 12,
   "metadata": {},
   "outputs": [
    {
     "data": {
      "text/html": [
       "<div>\n",
       "<style scoped>\n",
       "    .dataframe tbody tr th:only-of-type {\n",
       "        vertical-align: middle;\n",
       "    }\n",
       "\n",
       "    .dataframe tbody tr th {\n",
       "        vertical-align: top;\n",
       "    }\n",
       "\n",
       "    .dataframe thead th {\n",
       "        text-align: right;\n",
       "    }\n",
       "</style>\n",
       "<table border=\"1\" class=\"dataframe\">\n",
       "  <thead>\n",
       "    <tr style=\"text-align: right;\">\n",
       "      <th></th>\n",
       "      <th>run</th>\n",
       "      <th>type</th>\n",
       "      <th>module</th>\n",
       "      <th>name</th>\n",
       "      <th>attrname</th>\n",
       "      <th>attrvalue</th>\n",
       "      <th>value</th>\n",
       "      <th>count</th>\n",
       "      <th>sumweights</th>\n",
       "      <th>mean</th>\n",
       "      <th>stddev</th>\n",
       "      <th>min</th>\n",
       "      <th>max</th>\n",
       "      <th>binedges</th>\n",
       "      <th>binvalues</th>\n",
       "    </tr>\n",
       "  </thead>\n",
       "  <tbody>\n",
       "    <tr>\n",
       "      <th>1200</th>\n",
       "      <td>MAM10-MAMRELAY-1-20200913-16:56:36-159426</td>\n",
       "      <td>runattr</td>\n",
       "      <td>NaN</td>\n",
       "      <td>NaN</td>\n",
       "      <td>seedset</td>\n",
       "      <td>2</td>\n",
       "      <td>NaN</td>\n",
       "      <td>NaN</td>\n",
       "      <td>NaN</td>\n",
       "      <td>NaN</td>\n",
       "      <td>NaN</td>\n",
       "      <td>NaN</td>\n",
       "      <td>NaN</td>\n",
       "      <td>None</td>\n",
       "      <td>None</td>\n",
       "    </tr>\n",
       "    <tr>\n",
       "      <th>1201</th>\n",
       "      <td>MAM10-MAMRELAY-1-20200913-16:56:36-159426</td>\n",
       "      <td>itervar</td>\n",
       "      <td>NaN</td>\n",
       "      <td>NaN</td>\n",
       "      <td>delta</td>\n",
       "      <td>2</td>\n",
       "      <td>NaN</td>\n",
       "      <td>NaN</td>\n",
       "      <td>NaN</td>\n",
       "      <td>NaN</td>\n",
       "      <td>NaN</td>\n",
       "      <td>NaN</td>\n",
       "      <td>NaN</td>\n",
       "      <td>None</td>\n",
       "      <td>None</td>\n",
       "    </tr>\n",
       "    <tr>\n",
       "      <th>1202</th>\n",
       "      <td>MAM10-MAMRELAY-1-20200913-16:56:36-159426</td>\n",
       "      <td>itervar</td>\n",
       "      <td>NaN</td>\n",
       "      <td>NaN</td>\n",
       "      <td>speedMps</td>\n",
       "      <td>6</td>\n",
       "      <td>NaN</td>\n",
       "      <td>NaN</td>\n",
       "      <td>NaN</td>\n",
       "      <td>NaN</td>\n",
       "      <td>NaN</td>\n",
       "      <td>NaN</td>\n",
       "      <td>NaN</td>\n",
       "      <td>None</td>\n",
       "      <td>None</td>\n",
       "    </tr>\n",
       "    <tr>\n",
       "      <th>1203</th>\n",
       "      <td>MAM10-MAMRELAY-1-20200913-16:56:36-159426</td>\n",
       "      <td>param</td>\n",
       "      <td>NaN</td>\n",
       "      <td>NaN</td>\n",
       "      <td>*.host*.app[0].relayMode</td>\n",
       "      <td>\"MAM\"</td>\n",
       "      <td>NaN</td>\n",
       "      <td>NaN</td>\n",
       "      <td>NaN</td>\n",
       "      <td>NaN</td>\n",
       "      <td>NaN</td>\n",
       "      <td>NaN</td>\n",
       "      <td>NaN</td>\n",
       "      <td>None</td>\n",
       "      <td>None</td>\n",
       "    </tr>\n",
       "    <tr>\n",
       "      <th>1204</th>\n",
       "      <td>MAM10-MAMRELAY-1-20200913-16:56:36-159426</td>\n",
       "      <td>param</td>\n",
       "      <td>NaN</td>\n",
       "      <td>NaN</td>\n",
       "      <td>*.host*.app[0].delta</td>\n",
       "      <td>2</td>\n",
       "      <td>NaN</td>\n",
       "      <td>NaN</td>\n",
       "      <td>NaN</td>\n",
       "      <td>NaN</td>\n",
       "      <td>NaN</td>\n",
       "      <td>NaN</td>\n",
       "      <td>NaN</td>\n",
       "      <td>None</td>\n",
       "      <td>None</td>\n",
       "    </tr>\n",
       "  </tbody>\n",
       "</table>\n",
       "</div>"
      ],
      "text/plain": [
       "                                            run     type module name  \\\n",
       "1200  MAM10-MAMRELAY-1-20200913-16:56:36-159426  runattr    NaN  NaN   \n",
       "1201  MAM10-MAMRELAY-1-20200913-16:56:36-159426  itervar    NaN  NaN   \n",
       "1202  MAM10-MAMRELAY-1-20200913-16:56:36-159426  itervar    NaN  NaN   \n",
       "1203  MAM10-MAMRELAY-1-20200913-16:56:36-159426    param    NaN  NaN   \n",
       "1204  MAM10-MAMRELAY-1-20200913-16:56:36-159426    param    NaN  NaN   \n",
       "\n",
       "                      attrname attrvalue  value  count  sumweights  mean  \\\n",
       "1200                   seedset         2    NaN    NaN         NaN   NaN   \n",
       "1201                     delta         2    NaN    NaN         NaN   NaN   \n",
       "1202                  speedMps         6    NaN    NaN         NaN   NaN   \n",
       "1203  *.host*.app[0].relayMode     \"MAM\"    NaN    NaN         NaN   NaN   \n",
       "1204      *.host*.app[0].delta         2    NaN    NaN         NaN   NaN   \n",
       "\n",
       "      stddev  min  max binedges binvalues  \n",
       "1200     NaN  NaN  NaN     None      None  \n",
       "1201     NaN  NaN  NaN     None      None  \n",
       "1202     NaN  NaN  NaN     None      None  \n",
       "1203     NaN  NaN  NaN     None      None  \n",
       "1204     NaN  NaN  NaN     None      None  "
      ]
     },
     "execution_count": 12,
     "metadata": {},
     "output_type": "execute_result"
    }
   ],
   "source": [
    "aloha.iloc[1200:1205]\n"
   ]
  },
  {
   "cell_type": "code",
   "execution_count": 13,
   "metadata": {},
   "outputs": [
    {
     "name": "stdout",
     "output_type": "stream",
     "text": [
      "<class 'pandas.core.frame.DataFrame'>\n",
      "RangeIndex: 577573 entries, 0 to 577572\n",
      "Data columns (total 15 columns):\n",
      " #   Column      Non-Null Count   Dtype  \n",
      "---  ------      --------------   -----  \n",
      " 0   run         577573 non-null  object \n",
      " 1   type        577573 non-null  object \n",
      " 2   module      568489 non-null  object \n",
      " 3   name        568489 non-null  object \n",
      " 4   attrname    400746 non-null  object \n",
      " 5   attrvalue   400746 non-null  object \n",
      " 6   value       164197 non-null  float64\n",
      " 7   count       12630 non-null   float64\n",
      " 8   sumweights  0 non-null       float64\n",
      " 9   mean        7692 non-null    float64\n",
      " 10  stddev      7692 non-null    float64\n",
      " 11  min         7692 non-null    float64\n",
      " 12  max         7692 non-null    float64\n",
      " 13  binedges    10218 non-null   object \n",
      " 14  binvalues   10218 non-null   object \n",
      "dtypes: float64(7), object(8)\n",
      "memory usage: 66.1+ MB\n"
     ]
    }
   ],
   "source": [
    "aloha.info()"
   ]
  },
  {
   "cell_type": "code",
   "execution_count": 14,
   "metadata": {},
   "outputs": [
    {
     "data": {
      "text/html": [
       "<div>\n",
       "<style scoped>\n",
       "    .dataframe tbody tr th:only-of-type {\n",
       "        vertical-align: middle;\n",
       "    }\n",
       "\n",
       "    .dataframe tbody tr th {\n",
       "        vertical-align: top;\n",
       "    }\n",
       "\n",
       "    .dataframe thead th {\n",
       "        text-align: right;\n",
       "    }\n",
       "</style>\n",
       "<table border=\"1\" class=\"dataframe\">\n",
       "  <thead>\n",
       "    <tr style=\"text-align: right;\">\n",
       "      <th></th>\n",
       "      <th>value</th>\n",
       "      <th>count</th>\n",
       "      <th>sumweights</th>\n",
       "      <th>mean</th>\n",
       "      <th>stddev</th>\n",
       "      <th>min</th>\n",
       "      <th>max</th>\n",
       "    </tr>\n",
       "  </thead>\n",
       "  <tbody>\n",
       "    <tr>\n",
       "      <th>count</th>\n",
       "      <td>1.641970e+05</td>\n",
       "      <td>12630.000000</td>\n",
       "      <td>0.0</td>\n",
       "      <td>7692.000000</td>\n",
       "      <td>7692.000000</td>\n",
       "      <td>7.692000e+03</td>\n",
       "      <td>7692.000000</td>\n",
       "    </tr>\n",
       "    <tr>\n",
       "      <th>mean</th>\n",
       "      <td>6.479410e+03</td>\n",
       "      <td>1647.076168</td>\n",
       "      <td>NaN</td>\n",
       "      <td>12.875063</td>\n",
       "      <td>33.243154</td>\n",
       "      <td>4.084040e-01</td>\n",
       "      <td>421.513769</td>\n",
       "    </tr>\n",
       "    <tr>\n",
       "      <th>std</th>\n",
       "      <td>1.383883e+05</td>\n",
       "      <td>2291.428041</td>\n",
       "      <td>NaN</td>\n",
       "      <td>53.964674</td>\n",
       "      <td>243.345487</td>\n",
       "      <td>1.567614e+00</td>\n",
       "      <td>4158.958458</td>\n",
       "    </tr>\n",
       "    <tr>\n",
       "      <th>min</th>\n",
       "      <td>-1.502723e+00</td>\n",
       "      <td>0.000000</td>\n",
       "      <td>NaN</td>\n",
       "      <td>0.000000</td>\n",
       "      <td>0.000000</td>\n",
       "      <td>0.000000e+00</td>\n",
       "      <td>0.000000</td>\n",
       "    </tr>\n",
       "    <tr>\n",
       "      <th>25%</th>\n",
       "      <td>0.000000e+00</td>\n",
       "      <td>0.000000</td>\n",
       "      <td>NaN</td>\n",
       "      <td>0.000880</td>\n",
       "      <td>0.006033</td>\n",
       "      <td>0.000000e+00</td>\n",
       "      <td>0.111780</td>\n",
       "    </tr>\n",
       "    <tr>\n",
       "      <th>50%</th>\n",
       "      <td>1.000000e+00</td>\n",
       "      <td>664.000000</td>\n",
       "      <td>NaN</td>\n",
       "      <td>0.024100</td>\n",
       "      <td>0.137758</td>\n",
       "      <td>3.523624e-224</td>\n",
       "      <td>1.000000</td>\n",
       "    </tr>\n",
       "    <tr>\n",
       "      <th>75%</th>\n",
       "      <td>3.870000e+02</td>\n",
       "      <td>2519.000000</td>\n",
       "      <td>NaN</td>\n",
       "      <td>10.936569</td>\n",
       "      <td>8.729679</td>\n",
       "      <td>1.734019e-01</td>\n",
       "      <td>37.133336</td>\n",
       "    </tr>\n",
       "    <tr>\n",
       "      <th>max</th>\n",
       "      <td>8.981389e+06</td>\n",
       "      <td>13848.000000</td>\n",
       "      <td>NaN</td>\n",
       "      <td>678.643815</td>\n",
       "      <td>5796.149969</td>\n",
       "      <td>1.404304e+01</td>\n",
       "      <td>79947.620953</td>\n",
       "    </tr>\n",
       "  </tbody>\n",
       "</table>\n",
       "</div>"
      ],
      "text/plain": [
       "              value         count  sumweights         mean       stddev  \\\n",
       "count  1.641970e+05  12630.000000         0.0  7692.000000  7692.000000   \n",
       "mean   6.479410e+03   1647.076168         NaN    12.875063    33.243154   \n",
       "std    1.383883e+05   2291.428041         NaN    53.964674   243.345487   \n",
       "min   -1.502723e+00      0.000000         NaN     0.000000     0.000000   \n",
       "25%    0.000000e+00      0.000000         NaN     0.000880     0.006033   \n",
       "50%    1.000000e+00    664.000000         NaN     0.024100     0.137758   \n",
       "75%    3.870000e+02   2519.000000         NaN    10.936569     8.729679   \n",
       "max    8.981389e+06  13848.000000         NaN   678.643815  5796.149969   \n",
       "\n",
       "                 min           max  \n",
       "count   7.692000e+03   7692.000000  \n",
       "mean    4.084040e-01    421.513769  \n",
       "std     1.567614e+00   4158.958458  \n",
       "min     0.000000e+00      0.000000  \n",
       "25%     0.000000e+00      0.111780  \n",
       "50%    3.523624e-224      1.000000  \n",
       "75%     1.734019e-01     37.133336  \n",
       "max     1.404304e+01  79947.620953  "
      ]
     },
     "execution_count": 14,
     "metadata": {},
     "output_type": "execute_result"
    }
   ],
   "source": [
    "aloha.describe()"
   ]
  },
  {
   "cell_type": "code",
   "execution_count": 15,
   "metadata": {},
   "outputs": [
    {
     "data": {
      "text/html": [
       "<div>\n",
       "<style scoped>\n",
       "    .dataframe tbody tr th:only-of-type {\n",
       "        vertical-align: middle;\n",
       "    }\n",
       "\n",
       "    .dataframe tbody tr th {\n",
       "        vertical-align: top;\n",
       "    }\n",
       "\n",
       "    .dataframe thead th {\n",
       "        text-align: right;\n",
       "    }\n",
       "</style>\n",
       "<table border=\"1\" class=\"dataframe\">\n",
       "  <thead>\n",
       "    <tr style=\"text-align: right;\">\n",
       "      <th></th>\n",
       "      <th>run</th>\n",
       "      <th>type</th>\n",
       "      <th>module</th>\n",
       "      <th>name</th>\n",
       "      <th>attrname</th>\n",
       "      <th>attrvalue</th>\n",
       "      <th>value</th>\n",
       "      <th>count</th>\n",
       "      <th>sumweights</th>\n",
       "      <th>mean</th>\n",
       "      <th>stddev</th>\n",
       "      <th>min</th>\n",
       "      <th>max</th>\n",
       "      <th>binedges</th>\n",
       "      <th>binvalues</th>\n",
       "    </tr>\n",
       "  </thead>\n",
       "  <tbody>\n",
       "    <tr>\n",
       "      <th>9084</th>\n",
       "      <td>MAM10-BMRELAY-2-20200913-16:56:29-159411</td>\n",
       "      <td>scalar</td>\n",
       "      <td>MAM10.radioMedium.propagation</td>\n",
       "      <td>Arrival computation count</td>\n",
       "      <td>NaN</td>\n",
       "      <td>None</td>\n",
       "      <td>77000.0</td>\n",
       "      <td>NaN</td>\n",
       "      <td>NaN</td>\n",
       "      <td>NaN</td>\n",
       "      <td>NaN</td>\n",
       "      <td>NaN</td>\n",
       "      <td>NaN</td>\n",
       "      <td>None</td>\n",
       "      <td>None</td>\n",
       "    </tr>\n",
       "    <tr>\n",
       "      <th>9085</th>\n",
       "      <td>MAM10-BMRELAY-2-20200913-16:56:29-159411</td>\n",
       "      <td>scalar</td>\n",
       "      <td>MAM10.radioMedium</td>\n",
       "      <td>transmission count</td>\n",
       "      <td>NaN</td>\n",
       "      <td>None</td>\n",
       "      <td>7700.0</td>\n",
       "      <td>NaN</td>\n",
       "      <td>NaN</td>\n",
       "      <td>NaN</td>\n",
       "      <td>NaN</td>\n",
       "      <td>NaN</td>\n",
       "      <td>NaN</td>\n",
       "      <td>None</td>\n",
       "      <td>None</td>\n",
       "    </tr>\n",
       "    <tr>\n",
       "      <th>9086</th>\n",
       "      <td>MAM10-BMRELAY-2-20200913-16:56:29-159411</td>\n",
       "      <td>scalar</td>\n",
       "      <td>MAM10.radioMedium</td>\n",
       "      <td>signal send count</td>\n",
       "      <td>NaN</td>\n",
       "      <td>None</td>\n",
       "      <td>77000.0</td>\n",
       "      <td>NaN</td>\n",
       "      <td>NaN</td>\n",
       "      <td>NaN</td>\n",
       "      <td>NaN</td>\n",
       "      <td>NaN</td>\n",
       "      <td>NaN</td>\n",
       "      <td>None</td>\n",
       "      <td>None</td>\n",
       "    </tr>\n",
       "    <tr>\n",
       "      <th>9087</th>\n",
       "      <td>MAM10-BMRELAY-2-20200913-16:56:29-159411</td>\n",
       "      <td>scalar</td>\n",
       "      <td>MAM10.radioMedium</td>\n",
       "      <td>reception computation count</td>\n",
       "      <td>NaN</td>\n",
       "      <td>None</td>\n",
       "      <td>77000.0</td>\n",
       "      <td>NaN</td>\n",
       "      <td>NaN</td>\n",
       "      <td>NaN</td>\n",
       "      <td>NaN</td>\n",
       "      <td>NaN</td>\n",
       "      <td>NaN</td>\n",
       "      <td>None</td>\n",
       "      <td>None</td>\n",
       "    </tr>\n",
       "    <tr>\n",
       "      <th>9088</th>\n",
       "      <td>MAM10-BMRELAY-2-20200913-16:56:29-159411</td>\n",
       "      <td>scalar</td>\n",
       "      <td>MAM10.radioMedium</td>\n",
       "      <td>interference computation count</td>\n",
       "      <td>NaN</td>\n",
       "      <td>None</td>\n",
       "      <td>180999.0</td>\n",
       "      <td>NaN</td>\n",
       "      <td>NaN</td>\n",
       "      <td>NaN</td>\n",
       "      <td>NaN</td>\n",
       "      <td>NaN</td>\n",
       "      <td>NaN</td>\n",
       "      <td>None</td>\n",
       "      <td>None</td>\n",
       "    </tr>\n",
       "  </tbody>\n",
       "</table>\n",
       "</div>"
      ],
      "text/plain": [
       "                                           run    type  \\\n",
       "9084  MAM10-BMRELAY-2-20200913-16:56:29-159411  scalar   \n",
       "9085  MAM10-BMRELAY-2-20200913-16:56:29-159411  scalar   \n",
       "9086  MAM10-BMRELAY-2-20200913-16:56:29-159411  scalar   \n",
       "9087  MAM10-BMRELAY-2-20200913-16:56:29-159411  scalar   \n",
       "9088  MAM10-BMRELAY-2-20200913-16:56:29-159411  scalar   \n",
       "\n",
       "                             module                            name attrname  \\\n",
       "9084  MAM10.radioMedium.propagation       Arrival computation count      NaN   \n",
       "9085              MAM10.radioMedium              transmission count      NaN   \n",
       "9086              MAM10.radioMedium               signal send count      NaN   \n",
       "9087              MAM10.radioMedium     reception computation count      NaN   \n",
       "9088              MAM10.radioMedium  interference computation count      NaN   \n",
       "\n",
       "     attrvalue     value  count  sumweights  mean  stddev  min  max binedges  \\\n",
       "9084      None   77000.0    NaN         NaN   NaN     NaN  NaN  NaN     None   \n",
       "9085      None    7700.0    NaN         NaN   NaN     NaN  NaN  NaN     None   \n",
       "9086      None   77000.0    NaN         NaN   NaN     NaN  NaN  NaN     None   \n",
       "9087      None   77000.0    NaN         NaN   NaN     NaN  NaN  NaN     None   \n",
       "9088      None  180999.0    NaN         NaN   NaN     NaN  NaN  NaN     None   \n",
       "\n",
       "     binvalues  \n",
       "9084      None  \n",
       "9085      None  \n",
       "9086      None  \n",
       "9087      None  \n",
       "9088      None  "
      ]
     },
     "execution_count": 15,
     "metadata": {},
     "output_type": "execute_result"
    }
   ],
   "source": [
    "scalars = aloha[(aloha.type=='scalar')]\n",
    "scalars.head()\n"
   ]
  },
  {
   "cell_type": "code",
   "execution_count": 16,
   "metadata": {},
   "outputs": [],
   "source": [
    "runPrefix = 'MAM50-BMRELAY-0'\n",
    "run2Prefix = 'MAM50-MAMRELAY-6'"
   ]
  },
  {
   "cell_type": "code",
   "execution_count": 17,
   "metadata": {},
   "outputs": [
    {
     "data": {
      "text/plain": [
       "-24.17330952087191"
      ]
     },
     "execution_count": 17,
     "metadata": {},
     "output_type": "execute_result"
    }
   ],
   "source": [
    "def getScalarSum(scalarName, runData):\n",
    "    scalarData = runData[(runData.type=='scalar')]\n",
    "    return scalarData[(scalarData.name==scalarName)]['value'].sum()\n",
    "\n",
    "energyConsumptionSum = getScalarSum(scalarName='residualEnergyCapacity:last', \n",
    "                        runData=getRunData(findBluetoothRelayRun(speed=2, configName='MAM50-BMRELAY')))\n",
    "energyConsumptionSum"
   ]
  },
  {
   "cell_type": "code",
   "execution_count": 18,
   "metadata": {},
   "outputs": [
    {
     "data": {
      "text/plain": [
       "-22.75039614738272"
      ]
     },
     "execution_count": 18,
     "metadata": {},
     "output_type": "execute_result"
    }
   ],
   "source": [
    "energyConsumption2Sum = getScalarSum(scalarName='residualEnergyCapacity:last', \n",
    "                        runData=getRunData(findMAMRelayRun(speed=2, delta=10, configName='MAM50-MAMRELAY')))\n",
    "energyConsumption2Sum"
   ]
  },
  {
   "cell_type": "code",
   "execution_count": 19,
   "metadata": {},
   "outputs": [
    {
     "data": {
      "text/plain": [
       "'Packets received (BM 2): 2423.0'"
      ]
     },
     "execution_count": 19,
     "metadata": {},
     "output_type": "execute_result"
    }
   ],
   "source": [
    "def getUniqueScalarValue(scalarName, scalarData):\n",
    "    scalarValue = scalarData[(scalarData.name==scalarName)]['value']\n",
    "\n",
    "    if len(scalarValue) > 1:\n",
    "        raise Exception('Scalar ' + scalarName + ' is not unique on this dataframe')\n",
    "    return scalarValue.iloc[0]\n",
    "\n",
    "collectorPacketsReceived = getUniqueScalarValue(scalarName='packetReceived:count', \n",
    "                        scalarData=getCollectorRunScalars(findBluetoothRelayRun(speed=2, configName='MAM50-BMRELAY')))\n",
    "\n",
    "'Packets received (BM 2): ' + str(collectorPacketsReceived)"
   ]
  },
  {
   "cell_type": "code",
   "execution_count": 20,
   "metadata": {},
   "outputs": [
    {
     "data": {
      "text/plain": [
       "'Packets received (MAM 2 D5): 2498.0'"
      ]
     },
     "execution_count": 20,
     "metadata": {},
     "output_type": "execute_result"
    }
   ],
   "source": [
    "collectorPacketsReceived2 = getUniqueScalarValue(scalarName='packetReceived:count', \n",
    "                        scalarData=getCollectorRunScalars(findMAMRelayRun(speed=2, delta=10, configName='MAM50-MAMRELAY')))\n",
    "\n",
    "'Packets received (MAM 2 D5): ' + str(collectorPacketsReceived2)"
   ]
  },
  {
   "cell_type": "code",
   "execution_count": 21,
   "metadata": {},
   "outputs": [
    {
     "data": {
      "text/plain": [
       "'Data packets sent (BM 2): 33440.0 / Data packets sent (MAM 2 D5): 12630.0'"
      ]
     },
     "execution_count": 21,
     "metadata": {},
     "output_type": "execute_result"
    }
   ],
   "source": [
    "dataPacketsSent = getScalarSum('data packets sent', getRunData(findBluetoothRelayRun(speed=2, configName='MAM50-BMRELAY')))\n",
    "dataPacketsSent2 = getScalarSum('data packets sent', getRunData(findMAMRelayRun(speed=2, delta=10, configName='MAM50-MAMRELAY')))\n",
    "\n",
    "'Data packets sent (BM 2): ' + str(dataPacketsSent) + ' / Data packets sent (MAM 2 D5): ' + str(dataPacketsSent2)"
   ]
  },
  {
   "cell_type": "code",
   "execution_count": 22,
   "metadata": {},
   "outputs": [
    {
     "data": {
      "text/plain": [
       "'Data packets sent (MAM50-MAMRELAY-6): 12630.0'"
      ]
     },
     "execution_count": 22,
     "metadata": {},
     "output_type": "execute_result"
    }
   ],
   "source": [
    "'Data packets sent (' + run2Prefix + '): ' + str(dataPacketsSent2)"
   ]
  },
  {
   "cell_type": "code",
   "execution_count": 23,
   "metadata": {},
   "outputs": [
    {
     "name": "stderr",
     "output_type": "stream",
     "text": [
      "<ipython-input-23-a25b30de5b08>:2: UserWarning: Boolean Series key will be reindexed to match DataFrame index.\n",
      "  endToEndDelayHistograms = histograms[aloha.name=='endToEndDelay:histogram']\n"
     ]
    },
    {
     "data": {
      "text/plain": [
       "114"
      ]
     },
     "execution_count": 23,
     "metadata": {},
     "output_type": "execute_result"
    }
   ],
   "source": [
    "histograms = aloha[aloha.type=='histogram']\n",
    "endToEndDelayHistograms = histograms[aloha.name=='endToEndDelay:histogram']\n",
    "len(endToEndDelayHistograms)\n"
   ]
  },
  {
   "cell_type": "code",
   "execution_count": 24,
   "metadata": {},
   "outputs": [
    {
     "data": {
      "text/plain": [
       "run                    MAM50-BMRELAY-0-20200913-16:29:42-158790\n",
       "type                                                  histogram\n",
       "module                                  MAM50.collector1.app[0]\n",
       "name                                    endToEndDelay:histogram\n",
       "attrname                                                    NaN\n",
       "attrvalue                                                  None\n",
       "value                                                       NaN\n",
       "count                                                      2423\n",
       "sumweights                                                  NaN\n",
       "mean                                                  0.0285991\n",
       "stddev                                                0.0259209\n",
       "min                                                           0\n",
       "max                                                    0.176865\n",
       "binedges      [0.0, 0.002, 0.004, 0.006, 0.008, 0.01, 0.012,...\n",
       "binvalues     [237.0, 217.0, 98.0, 87.0, 87.0, 85.0, 89.0, 6...\n",
       "Name: 554259, dtype: object"
      ]
     },
     "execution_count": 24,
     "metadata": {},
     "output_type": "execute_result"
    }
   ],
   "source": [
    "def getHistogramData(histogramName, runData):\n",
    "    histograms = runData[runData.type == 'histogram']\n",
    "    histogram = histograms[histograms.name == histogramName]\n",
    "    if len(histogram) == 0:\n",
    "        raise Exception('Histogram not found')\n",
    "    if len(histogram) > 1:\n",
    "        raise Exception('Histogram match not unique')\n",
    "    return histogram.iloc[0]\n",
    "\n",
    "hist = getHistogramData(histogramName='endToEndDelay:histogram', \n",
    "                        runData=getRunData(findBluetoothRelayRun(speed=2, configName='MAM50-BMRELAY')))\n",
    "hist"
   ]
  },
  {
   "cell_type": "code",
   "execution_count": 25,
   "metadata": {},
   "outputs": [
    {
     "data": {
      "text/plain": [
       "run                   MAM50-MAMRELAY-6-20200913-16:34:57-158824\n",
       "type                                                  histogram\n",
       "module                                  MAM50.collector1.app[0]\n",
       "name                                    endToEndDelay:histogram\n",
       "attrname                                                    NaN\n",
       "attrvalue                                                  None\n",
       "value                                                       NaN\n",
       "count                                                      2498\n",
       "sumweights                                                  NaN\n",
       "mean                                                  0.0539762\n",
       "stddev                                                 0.053871\n",
       "min                                                           0\n",
       "max                                                    0.285999\n",
       "binedges      [0.0, 0.004, 0.008, 0.012, 0.016, 0.02, 0.024,...\n",
       "binvalues     [418.0, 160.0, 100.0, 103.0, 98.0, 98.0, 81.0,...\n",
       "Name: 561663, dtype: object"
      ]
     },
     "execution_count": 25,
     "metadata": {},
     "output_type": "execute_result"
    }
   ],
   "source": [
    "hist2 = getHistogramData(histogramName='endToEndDelay:histogram', \n",
    "                        runData=getRunData(findMAMRelayRun(speed=2, delta=10, configName='MAM50-MAMRELAY')))\n",
    "hist2"
   ]
  },
  {
   "cell_type": "code",
   "execution_count": 26,
   "metadata": {},
   "outputs": [
    {
     "data": {
      "text/plain": [
       "(array([0.   , 0.004, 0.008, 0.012, 0.016, 0.02 , 0.024, 0.028, 0.032,\n",
       "        0.036, 0.04 , 0.044, 0.048, 0.052, 0.056, 0.06 , 0.064, 0.068,\n",
       "        0.072, 0.076, 0.08 , 0.084, 0.088, 0.092, 0.096, 0.1  , 0.104,\n",
       "        0.108, 0.112, 0.116, 0.12 , 0.124, 0.128, 0.132, 0.136, 0.14 ,\n",
       "        0.144, 0.148, 0.152, 0.156, 0.16 , 0.164, 0.168, 0.172, 0.176,\n",
       "        0.18 , 0.184, 0.188, 0.192, 0.196, 0.2  , 0.204, 0.208, 0.212,\n",
       "        0.216, 0.22 , 0.224, 0.228, 0.232, 0.236, 0.24 , 0.244, 0.248,\n",
       "        0.252, 0.256, 0.26 , 0.264, 0.268, 0.272, 0.276, 0.28 , 0.284,\n",
       "        0.288]),\n",
       " array([418., 160., 100., 103.,  98.,  98.,  81.,  74.,  76.,  84.,  63.,\n",
       "         58.,  58.,  60.,  66.,  58.,  55.,  48.,  64.,  54.,  48.,  29.,\n",
       "         43.,  27.,  36.,  28.,  20.,  18.,  23.,  19.,  24.,  25.,  23.,\n",
       "         19.,  22.,  20.,  13.,  14.,  16.,  12.,  12.,   9.,  18.,  10.,\n",
       "         12.,   8.,   5.,   4.,   9.,   7.,   6.,   5.,   5.,   3.,   2.,\n",
       "          4.,   3.,   2.,   0.,   0.,   7.,   1.,   0.,   5.,   0.,   0.,\n",
       "          1.,   2.,   1.,   0.,   1.,   1.]))"
      ]
     },
     "execution_count": 26,
     "metadata": {},
     "output_type": "execute_result"
    }
   ],
   "source": [
    "hist2.binedges, hist2.binvalues"
   ]
  },
  {
   "cell_type": "code",
   "execution_count": 27,
   "metadata": {},
   "outputs": [
    {
     "data": {
      "image/png": "[encoded data removed]",
      "text/plain": [
       "<Figure size 432x288 with 1 Axes>"
      ]
     },
     "metadata": {
      "needs_background": "light"
     },
     "output_type": "display_data"
    },
    {
     "data": {
      "image/png": "[encoded data removed]",
      "text/plain": [
       "<Figure size 432x288 with 1 Axes>"
      ]
     },
     "metadata": {
      "needs_background": "light"
     },
     "output_type": "display_data"
    }
   ],
   "source": [
    "\n",
    "plt.hist(bins=hist.binedges, x=hist.binedges[:-1], weights=hist.binvalues, label=\"delay (s)\")\n",
    "plt.legend(title=runPrefix)\n",
    "plt.show()\n",
    "\n",
    "plt.hist(bins=hist2.binedges, x=hist2.binedges[:-1], weights=hist2.binvalues, label=\"delay (s)\")\n",
    "plt.legend(title=run2Prefix)\n",
    "plt.show()"
   ]
  },
  {
   "cell_type": "code",
   "execution_count": null,
   "metadata": {},
   "outputs": [],
   "source": []
  },
  {
   "cell_type": "code",
   "execution_count": 28,
   "metadata": {},
   "outputs": [
    {
     "data": {
      "text/plain": [
       "run                    MAM50-BMRELAY-0-20200913-16:29:42-158790\n",
       "type                                                  histogram\n",
       "module                                  MAM50.collector1.app[0]\n",
       "name                                    endToEndDelay:histogram\n",
       "attrname                                                    NaN\n",
       "attrvalue                                                  None\n",
       "value                                                       NaN\n",
       "count                                                      2423\n",
       "sumweights                                                  NaN\n",
       "mean                                                  0.0285991\n",
       "stddev                                                0.0259209\n",
       "min                                                           0\n",
       "max                                                    0.176865\n",
       "binedges      [0.0, 0.002, 0.004, 0.006, 0.008, 0.01, 0.012,...\n",
       "binvalues     [237.0, 217.0, 98.0, 87.0, 87.0, 85.0, 89.0, 6...\n",
       "Name: 554259, dtype: object"
      ]
     },
     "execution_count": 28,
     "metadata": {},
     "output_type": "execute_result"
    }
   ],
   "source": [
    "hist = endToEndDelayHistograms[endToEndDelayHistograms['run'].str.startswith(runPrefix, na=False)].iloc[0]\n",
    "hist"
   ]
  },
  {
   "cell_type": "code",
   "execution_count": 29,
   "metadata": {},
   "outputs": [
    {
     "data": {
      "text/plain": [
       "'5.886299400835483% MAM50-MAMRELAY-6 energy efficiency compared to MAM50-BMRELAY-0'"
      ]
     },
     "execution_count": 29,
     "metadata": {},
     "output_type": "execute_result"
    }
   ],
   "source": [
    "str(100-energyConsumption2Sum/energyConsumptionSum*100) + '% ' + run2Prefix + ' energy efficiency compared to ' + runPrefix"
   ]
  },
  {
   "cell_type": "code",
   "execution_count": 30,
   "metadata": {},
   "outputs": [
    {
     "data": {
      "image/png": "[encoded data removed]",
      "text/plain": [
       "<Figure size 1152x864 with 1 Axes>"
      ]
     },
     "metadata": {
      "needs_background": "light"
     },
     "output_type": "display_data"
    }
   ],
   "source": [
    "def explodeHistogramData(histogram):\n",
    "    a = []\n",
    "\n",
    "    i = 0\n",
    "    for aa in histogram.binedges[:-1]:\n",
    "        for j in range(1,histogram.binvalues[i].astype(np.int)):\n",
    "            a.append(aa)\n",
    "        i = i + 1\n",
    "    return a\n",
    "\n",
    "# Create a figure instance\n",
    "fig = plt.figure(1, figsize=(16, 12))\n",
    "\n",
    "# Create an axes instance\n",
    "ax = fig.add_subplot(111)\n",
    "\n",
    "bmesh2mpsData = explodeHistogramData(getHistogramData(histogramName='endToEndDelay:histogram', \n",
    "                        runData=getRunData(findBluetoothRelayRun(speed=2, configName='MAM50-BMRELAY'))))\n",
    "    \n",
    "data_to_plot_2ms = [bmesh2mpsData]\n",
    "labels = ['BLE']\n",
    "\n",
    "for d in allDeltas:\n",
    "    data_to_plot_2ms.append(explodeHistogramData(getHistogramData(histogramName='endToEndDelay:histogram', \n",
    "                        runData=getRunData(findMAMRelayRun(speed=2, delta=d, configName='MAM50-MAMRELAY')))))\n",
    "    labels.append('MAM-Δ=' + str(d))\n",
    "\n",
    "# Create the boxplot\n",
    "bp = ax.boxplot(data_to_plot_2ms, showfliers=False)\n",
    "\n",
    "ax.set_xticklabels(labels)\n",
    "plt.xticks(rotation='82.5')\n",
    "\n",
    "# Save the figure\n",
    "fig.savefig('fig1.png', bbox_inches='tight')"
   ]
  },
  {
   "cell_type": "code",
   "execution_count": null,
   "metadata": {},
   "outputs": [],
   "source": []
  },
  {
   "cell_type": "code",
   "execution_count": 31,
   "metadata": {},
   "outputs": [
    {
     "data": {
      "image/png": "[encoded data removed]",
      "text/plain": [
       "<Figure size 1152x864 with 1 Axes>"
      ]
     },
     "metadata": {
      "needs_background": "light"
     },
     "output_type": "display_data"
    }
   ],
   "source": [
    "# Create a figure instance\n",
    "fig = plt.figure(1, figsize=(16, 12))\n",
    "\n",
    "# Create an axes instance\n",
    "ax = fig.add_subplot(111)\n",
    "\n",
    "bmesh6mpsData = explodeHistogramData(getHistogramData(histogramName='endToEndDelay:histogram', \n",
    "                        runData=getRunData(findBluetoothRelayRun(speed=6, configName='MAM50-BMRELAY'))))\n",
    "    \n",
    "data_to_plot_6ms = [bmesh6mpsData]\n",
    "labels = ['BLE']\n",
    "\n",
    "for d in allDeltas:\n",
    "    data_to_plot_6ms.append(explodeHistogramData(getHistogramData(histogramName='endToEndDelay:histogram', \n",
    "                        runData=getRunData(findMAMRelayRun(speed=6, delta=d, configName='MAM50-MAMRELAY')))))\n",
    "    labels.append('MAM-Δ=' + str(d))\n",
    "\n",
    "# Create the boxplot\n",
    "bp = ax.boxplot(data_to_plot_6ms, showfliers=False)\n",
    "\n",
    "ax.set_xticklabels(labels)\n",
    "plt.xticks(rotation='82.5')\n",
    "\n",
    "# Save the figure\n",
    "fig.savefig('fig2.png', bbox_inches='tight')"
   ]
  },
  {
   "cell_type": "code",
   "execution_count": 32,
   "metadata": {},
   "outputs": [
    {
     "data": {
      "image/png": "[encoded data removed]",
      "text/plain": [
       "<Figure size 1152x864 with 1 Axes>"
      ]
     },
     "metadata": {
      "needs_background": "light"
     },
     "output_type": "display_data"
    }
   ],
   "source": [
    "# Create a figure instance\n",
    "fig = plt.figure(1, figsize=(16, 12))\n",
    "\n",
    "# Create an axes instance\n",
    "ax = fig.add_subplot(111)\n",
    "\n",
    "bmesh14mpsData = explodeHistogramData(getHistogramData(histogramName='endToEndDelay:histogram', \n",
    "                        runData=getRunData(findBluetoothRelayRun(speed=14, configName='MAM50-BMRELAY'))))\n",
    "    \n",
    "data_to_plot_14ms = [bmesh14mpsData]\n",
    "labels = ['BLE']\n",
    "\n",
    "for d in allDeltas:\n",
    "    data_to_plot_14ms.append(explodeHistogramData(getHistogramData(histogramName='endToEndDelay:histogram', \n",
    "                        runData=getRunData(findMAMRelayRun(speed=14, delta=d, configName='MAM50-MAMRELAY')))))\n",
    "    labels.append('MAM-Δ=' + str(d))\n",
    "\n",
    "# Create the boxplot\n",
    "bp = ax.boxplot(data_to_plot_14ms, showfliers=False)\n",
    "\n",
    "ax.set_xticklabels(labels)\n",
    "plt.xticks(rotation='82.5')\n",
    "\n",
    "# Save the figure\n",
    "fig.savefig('fig3.png', bbox_inches='tight')"
   ]
  },
  {
   "cell_type": "code",
   "execution_count": 33,
   "metadata": {},
   "outputs": [],
   "source": [
    "#TODO mhub data received bar chart. energy draw bar chart."
   ]
  },
  {
   "cell_type": "code",
   "execution_count": 34,
   "metadata": {},
   "outputs": [],
   "source": [
    "def getEnergyConsumptionData(speed):\n",
    "    energyConsumptionSumBM = getScalarSum(scalarName='residualEnergyCapacity:last', \n",
    "                            runData=getRunData(findBluetoothRelayRun(speed=speed, configName='MAM50-BMRELAY')))\n",
    "\n",
    "\n",
    "    labels = ['BM']\n",
    "    values = [-energyConsumptionSum]\n",
    "\n",
    "    for d in allDeltas:\n",
    "        values.append(-getScalarSum(scalarName='residualEnergyCapacity:last', \n",
    "                            runData=getRunData(findMAMRelayRun(speed=speed, delta=d, configName='MAM50-MAMRELAY'))))\n",
    "        labels.append('MAM-Δ=' + str(d))\n",
    "    return [labels, values]\n",
    "\n",
    "[labels, values] = getEnergyConsumptionData(2)"
   ]
  },
  {
   "cell_type": "code",
   "execution_count": 35,
   "metadata": {},
   "outputs": [
    {
     "data": {
      "image/png": "[encoded data removed]",
      "text/plain": [
       "<Figure size 1152x864 with 1 Axes>"
      ]
     },
     "metadata": {
      "needs_background": "light"
     },
     "output_type": "display_data"
    }
   ],
   "source": [
    "def plotEnergyConsumptionData(labels, values, speed, imageIdx):\n",
    "    # Create a figure instance\n",
    "    fig = plt.figure(1, figsize=(16, 12))\n",
    "\n",
    "    # Create an axes instance\n",
    "    ax = fig.add_subplot(111)\n",
    "\n",
    "    # Create the barchart\n",
    "    bp = ax.bar(labels, values)\n",
    "    bp[0].set_color('orange')\n",
    "\n",
    "    plt.suptitle('Energy draw (' + str(speed) + 'm/s)')\n",
    "    plt.xticks(rotation='82.5')\n",
    "\n",
    "    # Save the figure\n",
    "    fig.savefig('fig' + str(imageIdx) + '.png', bbox_inches='tight')\n",
    "    \n",
    "plotEnergyConsumptionData(labels, values, 2, 4)"
   ]
  },
  {
   "cell_type": "code",
   "execution_count": 36,
   "metadata": {},
   "outputs": [
    {
     "data": {
      "image/png": "[encoded data removed]",
      "text/plain": [
       "<Figure size 1152x864 with 1 Axes>"
      ]
     },
     "metadata": {
      "needs_background": "light"
     },
     "output_type": "display_data"
    }
   ],
   "source": [
    "[labels, values] = getEnergyConsumptionData(6)\n",
    "plotEnergyConsumptionData(labels, values, 6, 5)"
   ]
  },
  {
   "cell_type": "code",
   "execution_count": 37,
   "metadata": {},
   "outputs": [
    {
     "data": {
      "image/png": "[encoded data removed]",
      "text/plain": [
       "<Figure size 1152x864 with 1 Axes>"
      ]
     },
     "metadata": {
      "needs_background": "light"
     },
     "output_type": "display_data"
    }
   ],
   "source": [
    "[labels, values] = getEnergyConsumptionData(14)\n",
    "plotEnergyConsumptionData(labels, values, 14, 6)"
   ]
  },
  {
   "cell_type": "code",
   "execution_count": 38,
   "metadata": {},
   "outputs": [
    {
     "data": {
      "image/png": "[encoded data removed]",
      "text/plain": [
       "<Figure size 1152x864 with 1 Axes>"
      ]
     },
     "metadata": {
      "needs_background": "light"
     },
     "output_type": "display_data"
    }
   ],
   "source": [
    "def getCollectorPacketsReceivedData(speed):\n",
    "    bmData = getUniqueScalarValue(scalarName='packetReceived:count', \n",
    "                            scalarData=getCollectorRunScalars(findBluetoothRelayRun(speed=speed, configName='MAM50-BMRELAY')))\n",
    "\n",
    "\n",
    "    labels = ['BM']\n",
    "    values = [bmData]\n",
    "\n",
    "    for d in allDeltas:\n",
    "        values.append(getUniqueScalarValue(scalarName='packetReceived:count', \n",
    "                            scalarData=getCollectorRunScalars(findMAMRelayRun(speed=speed, delta=d, configName='MAM50-MAMRELAY'))))\n",
    "        labels.append('MAM-Δ=' + str(d))\n",
    "    return [labels, values]\n",
    "\n",
    "def plotPacketsReceivedData(labels, values, speed, imageIdx):\n",
    "    # Create a figure instance\n",
    "    fig = plt.figure(1, figsize=(16, 12))\n",
    "\n",
    "    # Create an axes instance\n",
    "    ax = fig.add_subplot(111)\n",
    "\n",
    "    # Create the barchart\n",
    "    bp = ax.bar(labels, values)\n",
    "    bp[0].set_color('orange')\n",
    "\n",
    "    plt.suptitle('M-Hub Received packets in bytes (' + str(speed) + 'm/s)')\n",
    "    plt.xticks(rotation='82.5')\n",
    "\n",
    "    # Save the figure\n",
    "    fig.savefig('fig' + str(imageIdx) + '.png', bbox_inches='tight')\n",
    "    \n",
    "[labels, values] = getCollectorPacketsReceivedData(2)\n",
    "plotPacketsReceivedData(labels, values, 2, 7)"
   ]
  },
  {
   "cell_type": "code",
   "execution_count": 39,
   "metadata": {},
   "outputs": [
    {
     "data": {
      "image/png": "[encoded data removed]",
      "text/plain": [
       "<Figure size 1152x864 with 1 Axes>"
      ]
     },
     "metadata": {
      "needs_background": "light"
     },
     "output_type": "display_data"
    }
   ],
   "source": [
    "\n",
    "[labels, values] = getCollectorPacketsReceivedData(6)\n",
    "plotPacketsReceivedData(labels, values, 6, 8)"
   ]
  },
  {
   "cell_type": "code",
   "execution_count": 40,
   "metadata": {},
   "outputs": [
    {
     "data": {
      "image/png": "[encoded data removed]",
      "text/plain": [
       "<Figure size 1152x864 with 1 Axes>"
      ]
     },
     "metadata": {
      "needs_background": "light"
     },
     "output_type": "display_data"
    }
   ],
   "source": [
    "\n",
    "[labels, values] = getCollectorPacketsReceivedData(14)\n",
    "plotPacketsReceivedData(labels, values, 14, 9)"
   ]
  },
  {
   "cell_type": "code",
   "execution_count": 41,
   "metadata": {},
   "outputs": [
    {
     "data": {
      "text/plain": [
       "21.839080459770116"
      ]
     },
     "execution_count": 41,
     "metadata": {},
     "output_type": "execute_result"
    }
   ],
   "source": [
    "def getReceivedPacketUUIDs(runData):\n",
    "    packetUUIDs = set()\n",
    "\n",
    "    data = runData[runData['name'].str.contains(\"received packet uuids-part1\", na=False)]\n",
    "\n",
    "    i = 1\n",
    "    while len(data) > 0:\n",
    "        if len(data) > 1:\n",
    "            raise Exception('Error - non unique uuid part')\n",
    "\n",
    "        key = data.iloc[0]['name']\n",
    "        uuidsPartial = key.split('=')[1].split(',')\n",
    "        packetUUIDs.update(uuidsPartial)\n",
    "        i = i + 1\n",
    "        data = runData[runData['name'].str.contains(\"received packet uuids-part\" + str(i), na=False)]\n",
    "\n",
    "    return packetUUIDs\n",
    "\n",
    "def getGeneratedPacketUUIDs(runData):\n",
    "    packetUUIDs = set()\n",
    "\n",
    "    data = runData[runData['name'].str.contains(\"generated packet uuids\", na=False)]['name']\n",
    "    \n",
    "    data.apply(lambda x: packetUUIDs.update(x.replace('generated packet uuids','').split(',')))\n",
    "    \n",
    "    return packetUUIDs\n",
    "\n",
    "temp = getRunData(findMAMRelayRun(speed=2, delta=5, configName='MAM50-MAMRELAY'))\n",
    "received = getReceivedPacketUUIDs(temp)\n",
    "generated = getGeneratedPacketUUIDs(temp)\n",
    "\n",
    "notReceivedPackets = generated.difference(received)\n",
    "\n",
    "len(received)/len(generated)*100"
   ]
  },
  {
   "cell_type": "code",
   "execution_count": 42,
   "metadata": {},
   "outputs": [
    {
     "data": {
      "image/png": "[encoded data removed]",
      "text/plain": [
       "<Figure size 1152x864 with 1 Axes>"
      ]
     },
     "metadata": {
      "needs_background": "light"
     },
     "output_type": "display_data"
    }
   ],
   "source": [
    "def getCollectorPacketsUniqueReceivedCount(speed):\n",
    "    runData = getRunData(findBluetoothRelayRun(speed=speed, configName='MAM50-BMRELAY'))\n",
    "    bmData = len(getReceivedPacketUUIDs(runData))\n",
    "\n",
    "\n",
    "    labels = ['BM']\n",
    "    values = [bmData]\n",
    "\n",
    "    for d in allDeltas:\n",
    "        runData = getRunData(findMAMRelayRun(speed=speed, delta=d, configName='MAM50-MAMRELAY'))\n",
    "        values.append(len(getReceivedPacketUUIDs(runData)))\n",
    "        labels.append('MAM-Δ=' + str(d))\n",
    "    return [labels, values]\n",
    "\n",
    "def plotPacketsUniqueReceivedCount(labels, values, speed, imageIdx):\n",
    "    # Create a figure instance\n",
    "    fig = plt.figure(1, figsize=(16, 12))\n",
    "\n",
    "    # Create an axes instance\n",
    "    ax = fig.add_subplot(111)\n",
    "\n",
    "    # Create the barchart\n",
    "    bp = ax.bar(labels, values)\n",
    "    bp[0].set_color('orange')\n",
    "\n",
    "    plt.suptitle('M-Hub Received unique data packets count (' + str(speed) + 'm/s)')\n",
    "    plt.xticks(rotation='82.5')\n",
    "\n",
    "    # Save the figure\n",
    "    fig.savefig('fig' + str(imageIdx) + '.png', bbox_inches='tight')\n",
    "\n",
    "[labels, values] = getCollectorPacketsUniqueReceivedCount(2)\n",
    "plotPacketsUniqueReceivedCount(labels, values, 2, 10)"
   ]
  },
  {
   "cell_type": "code",
   "execution_count": 43,
   "metadata": {},
   "outputs": [
    {
     "data": {
      "image/png": "[encoded data removed]",
      "text/plain": [
       "<Figure size 1152x864 with 1 Axes>"
      ]
     },
     "metadata": {
      "needs_background": "light"
     },
     "output_type": "display_data"
    }
   ],
   "source": [
    "[labels, values] = getCollectorPacketsUniqueReceivedCount(6)\n",
    "plotPacketsUniqueReceivedCount(labels, values, 6, 11)"
   ]
  },
  {
   "cell_type": "code",
   "execution_count": 44,
   "metadata": {},
   "outputs": [
    {
     "data": {
      "image/png": "[encoded data removed]",
      "text/plain": [
       "<Figure size 1152x864 with 1 Axes>"
      ]
     },
     "metadata": {
      "needs_background": "light"
     },
     "output_type": "display_data"
    }
   ],
   "source": [
    "[labels, values] = getCollectorPacketsUniqueReceivedCount(14)\n",
    "plotPacketsUniqueReceivedCount(labels, values, 14, 12)"
   ]
  },
  {
   "cell_type": "code",
   "execution_count": 45,
   "metadata": {},
   "outputs": [
    {
     "data": {
      "image/png": "[encoded data removed]",
      "text/plain": [
       "<Figure size 1152x864 with 1 Axes>"
      ]
     },
     "metadata": {
      "needs_background": "light"
     },
     "output_type": "display_data"
    }
   ],
   "source": [
    "def getCollectorPacketsUniqueDeliveryRate(speed):\n",
    "    runData = getRunData(findBluetoothRelayRun(speed=speed, configName='MAM50-BMRELAY'))\n",
    "    bmData = len(getReceivedPacketUUIDs(runData))/len(getGeneratedPacketUUIDs(runData))*100\n",
    "\n",
    "\n",
    "    labels = ['BM']\n",
    "    values = [bmData]\n",
    "\n",
    "    for d in allDeltas:\n",
    "        runData = getRunData(findMAMRelayRun(speed=speed, delta=d, configName='MAM50-MAMRELAY'))\n",
    "        values.append(len(getReceivedPacketUUIDs(runData))/len(getGeneratedPacketUUIDs(runData))*100)\n",
    "        labels.append('MAM-Δ=' + str(d))\n",
    "    return [labels, values]\n",
    "\n",
    "def plotPacketsUniqueDeliveryRate(labels, values, speed, imageIdx):\n",
    "    # Create a figure instance\n",
    "    fig = plt.figure(1, figsize=(16, 12))\n",
    "\n",
    "    # Create an axes instance\n",
    "    ax = fig.add_subplot(111)\n",
    "\n",
    "    # Create the barchart\n",
    "    bp = ax.bar(labels, values)\n",
    "    bp[0].set_color('orange')\n",
    "\n",
    "    plt.suptitle('M-Hub delivery rate (uniqueDataReceived/uniqueDataGenerated) in % (' + str(speed) + 'm/s)')\n",
    "    plt.xticks(rotation='82.5')\n",
    "\n",
    "    # Save the figure\n",
    "    fig.savefig('fig' + str(imageIdx) + '.png', bbox_inches='tight')\n",
    "\n",
    "[labels, values] = getCollectorPacketsUniqueDeliveryRate(2)\n",
    "plotPacketsUniqueDeliveryRate(labels, values, 2, 13)"
   ]
  },
  {
   "cell_type": "code",
   "execution_count": 46,
   "metadata": {},
   "outputs": [
    {
     "data": {
      "image/png": "[encoded data removed]",
      "text/plain": [
       "<Figure size 1152x864 with 1 Axes>"
      ]
     },
     "metadata": {
      "needs_background": "light"
     },
     "output_type": "display_data"
    }
   ],
   "source": [
    "\n",
    "[labels, values] = getCollectorPacketsUniqueDeliveryRate(6)\n",
    "plotPacketsUniqueDeliveryRate(labels, values, 6, 14)"
   ]
  },
  {
   "cell_type": "code",
   "execution_count": 47,
   "metadata": {},
   "outputs": [
    {
     "data": {
      "image/png": "[encoded data removed]",
      "text/plain": [
       "<Figure size 1152x864 with 1 Axes>"
      ]
     },
     "metadata": {
      "needs_background": "light"
     },
     "output_type": "display_data"
    }
   ],
   "source": [
    "\n",
    "[labels, values] = getCollectorPacketsUniqueDeliveryRate(14)\n",
    "plotPacketsUniqueDeliveryRate(labels, values, 14, 15)"
   ]
  },
  {
   "cell_type": "code",
   "execution_count": null,
   "metadata": {},
   "outputs": [],
   "source": []
  }
 ],
 "metadata": {
  "kernelspec": {
   "display_name": "Python 3",
   "language": "python",
   "name": "python3"
  },
  "language_info": {
   "codemirror_mode": {
    "name": "ipython",
    "version": 3
   },
   "file_extension": ".py",
   "mimetype": "text/x-python",
   "name": "python",
   "nbconvert_exporter": "python",
   "pygments_lexer": "ipython3",
   "version": "3.8.2"
  }
 },
 "nbformat": 4,
 "nbformat_minor": 4
}
